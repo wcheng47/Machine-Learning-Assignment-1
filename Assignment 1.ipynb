{
 "cells": [
  {
   "cell_type": "code",
   "execution_count": 3,
   "metadata": {},
   "outputs": [],
   "source": [
    "import pandas as pd\n",
    "import seaborn as sns\n",
    "import matplotlib.pyplot as plt\n",
    "import numpy as np\n",
    "import os\n",
    "from sklearn.neighbors import KNeighborsClassifier\n",
    "from sklearn.neural_network import MLPClassifier\n",
    "from sklearn.tree import DecisionTreeClassifier\n",
    "from sklearn.model_selection import cross_val_score\n",
    "from sklearn import preprocessing\n",
    "from sklearn.svm import SVC\n",
    "from sklearn.ensemble import AdaBoostClassifier\n",
    "from IPython.display import display, HTML\n",
    "import time"
   ]
  },
  {
   "cell_type": "code",
   "execution_count": 4,
   "metadata": {},
   "outputs": [],
   "source": [
    "income = pd.read_csv(\"./income.csv\")\n",
    "HR = pd.read_csv(\"./HR_comma_sep.csv\")  "
   ]
  },
  {
   "cell_type": "code",
   "execution_count": 5,
   "metadata": {},
   "outputs": [],
   "source": [
    "def processData(data, feature):\n",
    "    Y = data[feature]\n",
    "    X = data.drop(feature, axis = 1)\n",
    "    X = pd.get_dummies(X)\n",
    "    X = preprocessing.scale(X)\n",
    "    X = pd.DataFrame(X)\n",
    "    return X, Y"
   ]
  },
  {
   "cell_type": "code",
   "execution_count": 63,
   "metadata": {},
   "outputs": [],
   "source": [
    "def write_scores(filename, x, y):\n",
    "    file = open(filename, \"w\")\n",
    "    if x is not None:\n",
    "        for i in range(0, len(x)):\n",
    "            file.write(str(x[i]) + \", \")\n",
    "            file.write(str(y[i]) + \"\\n\")\n",
    "        file.write(\"\\n\")\n",
    "    file.close()"
   ]
  },
  {
   "cell_type": "code",
   "execution_count": 64,
   "metadata": {},
   "outputs": [],
   "source": [
    "def write_scores(filename, x, y, a, b):\n",
    "    file = open(filename, \"w\")\n",
    "    if x is not None:\n",
    "        for i in range(0, len(x)):\n",
    "            file.write(str(x[i]) + \", \")\n",
    "            file.write(str(y[i]) + \"\\n\")\n",
    "        file.write(\"\\n\")\n",
    "    file.write(\"\\n\")\n",
    "    if a is not None:\n",
    "        for i in range(0, len(a)):\n",
    "            file.write(str(a[i]) + \", \")\n",
    "            file.write(str(b[i]) + \"\\n\")\n",
    "        file.write(\"\\n\")\n",
    "    file.close()"
   ]
  },
  {
   "cell_type": "markdown",
   "metadata": {},
   "source": [
    "## Income Set"
   ]
  },
  {
   "cell_type": "markdown",
   "metadata": {},
   "source": [
    "### Decision Trees"
   ]
  },
  {
   "cell_type": "code",
   "execution_count": 69,
   "metadata": {},
   "outputs": [
    {
     "name": "stdout",
     "output_type": "stream",
     "text": [
      "start\n"
     ]
    },
    {
     "name": "stdout",
     "output_type": "stream",
     "text": [
      "done\n"
     ]
    }
   ],
   "source": [
    "# data size vs accuracy\n",
    "income_dt = DecisionTreeClassifier(max_leaf_nodes=10)\n",
    "income_means = []\n",
    "income_std = []\n",
    "income_mean_training = []\n",
    "training_time = []\n",
    "print \"start\"\n",
    "for i in range(1, 51):\n",
    "    income_sample = income.sample(income[\"income\"].count() / 50 * i)\n",
    "    income_X, income_Y = processData(income_sample, \"income\")\n",
    "    income_scores = cross_val_score(income_dt, income_X, income_Y, cv = 10)\n",
    "    start = time.time()\n",
    "    income_dt.fit(income_X, income_Y)\n",
    "    end = time.time()\n",
    "    training_time.append(end-start)\n",
    "    income_means.append(income_scores.mean())\n",
    "    income_std.append(income_scores.std())\n",
    "    income_mean_training.append(income_dt.score(income_X, income_Y))\n",
    "print \"done\"\n"
   ]
  },
  {
   "cell_type": "code",
   "execution_count": null,
   "metadata": {},
   "outputs": [],
   "source": []
  },
  {
   "cell_type": "code",
   "execution_count": 5,
   "metadata": {
    "collapsed": false
   },
   "outputs": [
    {
     "name": "stdout",
     "output_type": "stream",
     "text": [
      "start\n"
     ]
    },
    {
     "name": "stdout",
     "output_type": "stream",
     "text": [
      "1\n"
     ]
    },
    {
     "name": "stdout",
     "output_type": "stream",
     "text": [
      "2\n"
     ]
    },
    {
     "name": "stdout",
     "output_type": "stream",
     "text": [
      "3\n"
     ]
    },
    {
     "name": "stdout",
     "output_type": "stream",
     "text": [
      "4\n"
     ]
    },
    {
     "name": "stdout",
     "output_type": "stream",
     "text": [
      "5\n"
     ]
    },
    {
     "name": "stdout",
     "output_type": "stream",
     "text": [
      "6\n"
     ]
    },
    {
     "name": "stdout",
     "output_type": "stream",
     "text": [
      "7\n"
     ]
    },
    {
     "name": "stdout",
     "output_type": "stream",
     "text": [
      "8\n"
     ]
    },
    {
     "name": "stdout",
     "output_type": "stream",
     "text": [
      "9\n"
     ]
    },
    {
     "name": "stdout",
     "output_type": "stream",
     "text": [
      "10\ndone\n"
     ]
    }
   ],
   "source": [
    "#max depth\n",
    "income_means_leaf = []\n",
    "income_std_leaf = []\n",
    "income_mean_training_leaf = []\n",
    "print \"start\"\n",
    "for i in range(1, 11):\n",
    "    income_dt = DecisionTreeClassifier(max_depth=i*5)\n",
    "    # income_sample = income.sample(income[\"income\"].count() / 51 * (i - 1))\n",
    "    income_X, income_Y = processData(income, \"income\")\n",
    "    income_scores = cross_val_score(income_dt, income_X, income_Y, cv = 10)\n",
    "    income_means_leaf.append(income_scores.mean())\n",
    "    income_std_leaf.append(income_scores.std())\n",
    "    income_dt.fit(income_X, income_Y)\n",
    "    income_mean_training_leaf.append(income_dt.score(income_X, income_Y))\n",
    "    print i\n",
    "print \"done\""
   ]
  },
  {
   "cell_type": "code",
   "execution_count": null,
   "metadata": {},
   "outputs": [
    {
     "name": "stdout",
     "output_type": "stream",
     "text": [
      "start\n"
     ]
    }
   ],
   "source": [
    "fig, ax = plt.subplots()\n",
    "fig.set_size_inches(15, 8)\n",
    "x = []\n",
    "print \"start\"\n",
    "for i in list(range(1,51)) :\n",
    "    x.append(i*2)\n",
    "income_graph = sns.pointplot(x, income_means, ax = ax, color = 'r')\n",
    "# income_graph = plt.errorbar(x, income_mean_training, income_std, linestyle='None', marker='^')\n",
    "# sns.pointplot(x, income_mean_training, ax = ax, color = 'r')\n",
    "\n",
    "income_graph.set_xlabel(\"% of training data\")\n",
    "income_graph.set_ylabel(\"% accuracy\")\n",
    "income_graph.set_title(\"Income Set, Decision Tree, % of training data vs % accuracy\")\n",
    "plt.savefig(\"Income_DT_Training_Data_Accuracy\")\n",
    "write_scores(\"Income_DT_Training_Data_Accuracy.csv\", x, income_means, None, None)\n",
    "write_scores(\"income_DT_training_time.csv\", x, training_time, None, None)\n",
    "plt.show()\n"
   ]
  },
  {
   "cell_type": "code",
   "execution_count": null,
   "metadata": {
    "collapsed": true
   },
   "outputs": [
    {
     "name": "stdout",
     "output_type": "stream",
     "text": [
      "10\n10\ndone\n"
     ]
    }
   ],
   "source": [
    "\n",
    "fig2, ax2 = plt.subplots()\n",
    "fig2.set_size_inches(15, 8)\n",
    "x = []\n",
    "for i in list(range(1,11)) :\n",
    "    x.append(i*5)\n",
    "print len(x)\n",
    "print len(income_mean_training_leaf)\n",
    "income_graph_leaf = sns.pointplot(x, income_means_leaf, ax = ax2)\n",
    "sns.pointplot(x, income_mean_training_leaf, ax = ax2, color = 'r')\n",
    "income_graph_leaf.set_xlabel(\"# of leaf nodes\")\n",
    "income_graph_leaf.set_ylabel(\"% accuracy\")\n",
    "income_graph_leaf.set_title(\"Income Set, Decision Tree, # of leaf nodes vs % accuracy\")\n",
    "plt.savefig(\"Income_DT_LeafNodes_Accuracy\")\n",
    "write_scores(\"Income_DT_LeafNodes_Accuracy.csv\", x, income_means_leaf)\n",
    "write_scores(\"Income_DT_LeafNodes_Accuracy_training.csv\", x, income_mean_training_leaf)\n",
    "plt.show()\n",
    "print \"done\""
   ]
  },
  {
   "cell_type": "markdown",
   "metadata": {},
   "source": [
    "### KNN"
   ]
  },
  {
   "cell_type": "code",
   "execution_count": 62,
   "metadata": {},
   "outputs": [
    {
     "name": "stdout",
     "output_type": "stream",
     "text": [
      "start\n"
     ]
    },
    {
     "name": "stdout",
     "output_type": "stream",
     "text": [
      "1\n"
     ]
    },
    {
     "name": "stdout",
     "output_type": "stream",
     "text": [
      "2\n"
     ]
    },
    {
     "name": "stdout",
     "output_type": "stream",
     "text": [
      "3\n"
     ]
    },
    {
     "name": "stdout",
     "output_type": "stream",
     "text": [
      "4\n"
     ]
    },
    {
     "name": "stdout",
     "output_type": "stream",
     "text": [
      "5\n"
     ]
    },
    {
     "name": "stdout",
     "output_type": "stream",
     "text": [
      "6\n"
     ]
    },
    {
     "name": "stdout",
     "output_type": "stream",
     "text": [
      "7\n"
     ]
    },
    {
     "name": "stdout",
     "output_type": "stream",
     "text": [
      "8\n"
     ]
    },
    {
     "name": "stdout",
     "output_type": "stream",
     "text": [
      "9\n"
     ]
    },
    {
     "name": "stdout",
     "output_type": "stream",
     "text": [
      "10\ndone\n"
     ]
    }
   ],
   "source": [
    "income_knn = KNeighborsClassifier(n_neighbors = 5)\n",
    "income_means_KNN = []\n",
    "income_std_KNN = []\n",
    "income_mean_training_KNN = []\n",
    "training_time = []\n",
    "print \"start\"\n",
    "for i in range(1, 11):\n",
    "    income_sample = income.sample(income[\"income\"].count() / 10 * i)\n",
    "    income_X, income_Y = processData(income_sample, \"income\")\n",
    "    income_scores = cross_val_score(income_knn, income_X, income_Y, cv = 10)\n",
    "    start = time.time()\n",
    "    income_knn.fit(income_X, income_Y)\n",
    "    end = time.time()\n",
    "    training_time.append(end-start)\n",
    "    income_means_KNN.append(income_scores.mean())\n",
    "    income_std_KNN.append(income_scores.std())\n",
    "    income_mean_training_KNN.append(income_knn.score(income_X, income_Y))\n",
    "    print i\n",
    "print \"done\""
   ]
  },
  {
   "cell_type": "code",
   "execution_count": 10,
   "metadata": {},
   "outputs": [
    {
     "name": "stdout",
     "output_type": "stream",
     "text": [
      "start\n"
     ]
    },
    {
     "name": "stdout",
     "output_type": "stream",
     "text": [
      "start training set\n"
     ]
    },
    {
     "name": "stdout",
     "output_type": "stream",
     "text": [
      "1\n"
     ]
    },
    {
     "name": "stdout",
     "output_type": "stream",
     "text": [
      "start training set\n"
     ]
    },
    {
     "name": "stdout",
     "output_type": "stream",
     "text": [
      "6\n"
     ]
    },
    {
     "name": "stdout",
     "output_type": "stream",
     "text": [
      "start training set\n"
     ]
    },
    {
     "name": "stdout",
     "output_type": "stream",
     "text": [
      "11\n"
     ]
    },
    {
     "name": "stdout",
     "output_type": "stream",
     "text": [
      "start training set\n"
     ]
    },
    {
     "name": "stdout",
     "output_type": "stream",
     "text": [
      "16\n"
     ]
    },
    {
     "name": "stdout",
     "output_type": "stream",
     "text": [
      "start training set\n"
     ]
    },
    {
     "name": "stdout",
     "output_type": "stream",
     "text": [
      "21\n"
     ]
    },
    {
     "name": "stdout",
     "output_type": "stream",
     "text": [
      "start training set\n"
     ]
    },
    {
     "name": "stdout",
     "output_type": "stream",
     "text": [
      "26\n"
     ]
    },
    {
     "name": "stdout",
     "output_type": "stream",
     "text": [
      "start training set\n"
     ]
    },
    {
     "name": "stdout",
     "output_type": "stream",
     "text": [
      "31\n"
     ]
    },
    {
     "name": "stdout",
     "output_type": "stream",
     "text": [
      "start training set\n"
     ]
    },
    {
     "name": "stdout",
     "output_type": "stream",
     "text": [
      "36\n"
     ]
    },
    {
     "name": "stdout",
     "output_type": "stream",
     "text": [
      "start training set\n"
     ]
    },
    {
     "name": "stdout",
     "output_type": "stream",
     "text": [
      "41\n"
     ]
    },
    {
     "name": "stdout",
     "output_type": "stream",
     "text": [
      "start training set\n"
     ]
    },
    {
     "name": "stdout",
     "output_type": "stream",
     "text": [
      "46\ndone\n"
     ]
    }
   ],
   "source": [
    "income_means_KNN_neighbors = []\n",
    "income_std_KNN_neighbors = []\n",
    "income_mean_training_KNN_neighbors = []\n",
    "print \"start\"\n",
    "for i in range(1, 51, 5):\n",
    "    income_knn = KNeighborsClassifier(n_neighbors = i)\n",
    "    income_sample = income.sample(income[\"income\"].count() / 10)\n",
    "    income_X, income_Y = processData(income, \"income\")\n",
    "    income_scores = cross_val_score(income_knn, income_X, income_Y, cv = 10)\n",
    "    income_knn.fit(income_X, income_Y)\n",
    "    income_means_KNN_neighbors.append(income_scores.mean())\n",
    "    income_std_KNN_neighbors.append(income_scores.std())\n",
    "    print \"start training set\"\n",
    "    income_mean_training_KNN_neighbors.append(income_knn.score(income_X, income_Y))\n",
    "    print i\n",
    "print \"done\""
   ]
  },
  {
   "cell_type": "code",
   "execution_count": 67,
   "metadata": {},
   "outputs": [
    {
     "name": "stdout",
     "output_type": "stream",
     "text": [
      "done\n"
     ]
    }
   ],
   "source": [
    "fig, ax = plt.subplots()\n",
    "fig.set_size_inches(15, 8)\n",
    "x = []\n",
    "# for i in list(range(1,51)) :\n",
    "#     x.append(i*2)\n",
    "# income_graph = sns.pointplot(x, income_means, ax = ax)\n",
    "# sns.pointplot(x, income_mean_training, ax = ax, color = 'r')\n",
    "# income_graph.set_xlabel(\"% of training data\")\n",
    "# income_graph.set_ylabel(\"% accuracy\")\n",
    "# income_graph.set_title(\"Income Set, Decision Tree, % of training data vs % accuracy\")\n",
    "# plt.show()\n",
    "for i in list(range(1,11)) :\n",
    "    x.append(i * 10)\n",
    "income_graph = sns.pointplot(x, income_means_KNN, ax = ax)\n",
    "sns.pointplot(x, income_mean_training_KNN, ax = ax, color = 'r')\n",
    "income_graph.set_xlabel(\"% training data\")\n",
    "income_graph.set_ylabel(\"% accuracy\")\n",
    "income_graph.set_title(\"Income Set, KNN, % training data vs % accuracy\")\n",
    "plt.savefig('Income Set_KNN_Training_Data_Vs_Accuracy.png', bbox_inches='tight')\n",
    "write_scores(\"Income Set_KNN_Training_Data_Vs_Accuracy.csv\", x, income_means_KNN, x, income_mean_training_KNN)\n",
    "write_scores(\"Income_KNN_TrainingSpeed.csv\", x, training_time, None, None)\n",
    "plt.show()\n",
    "print \"done\""
   ]
  },
  {
   "cell_type": "code",
   "execution_count": 11,
   "metadata": {},
   "outputs": [
    {
     "name": "stdout",
     "output_type": "stream",
     "text": [
      "done\n"
     ]
    }
   ],
   "source": [
    "fig, ax = plt.subplots()\n",
    "fig.set_size_inches(15, 8)\n",
    "x = []\n",
    "for i in list(range(1,11)) :\n",
    "    x.append(i * 3)\n",
    "income_graph = sns.pointplot(x, income_means_KNN_neighbors, ax = ax)\n",
    "sns.pointplot(x, income_mean_training_KNN_neighbors, ax = ax, color = 'r')\n",
    "income_graph.set_xlabel(\"Number of neighbors\")\n",
    "income_graph.set_ylabel(\"% accuracy\")\n",
    "income_graph.set_title(\"Income Set, KNN, neighbors vs % accuracy\")\n",
    "plt.savefig(\"Income_KNN_Neighbors_Accuracy.png\")\n",
    "write_scores(\"Income_KNN_Neighbors_Accuracy.csv\", x, income_means_KNN_neighbors, x, income_mean_training_KNN_neighbors)\n",
    "plt.show()\n",
    "print \"done\""
   ]
  },
  {
   "cell_type": "markdown",
   "metadata": {},
   "source": [
    "##Neural Networks"
   ]
  },
  {
   "cell_type": "code",
   "execution_count": 20,
   "metadata": {
    "collapsed": true
   },
   "outputs": [
    {
     "ename": "KeyError",
     "evalue": "'income'",
     "traceback": [
      "\u001b[0;31m\u001b[0m",
      "\u001b[0;31mKeyError\u001b[0mTraceback (most recent call last)",
      "\u001b[0;32m<ipython-input-20-6d6e6143367a>\u001b[0m in \u001b[0;36m<module>\u001b[0;34m()\u001b[0m\n\u001b[1;32m      6\u001b[0m \u001b[0;34m\u001b[0m\u001b[0m\n\u001b[1;32m      7\u001b[0m \u001b[0;31m# income_test = income.drop(income_train.index)\u001b[0m\u001b[0;34m\u001b[0m\u001b[0;34m\u001b[0m\u001b[0m\n\u001b[0;32m----> 8\u001b[0;31m \u001b[0mincome_X_train\u001b[0m\u001b[0;34m,\u001b[0m \u001b[0mincome_Y_train\u001b[0m \u001b[0;34m=\u001b[0m \u001b[0mprocessData\u001b[0m\u001b[0;34m(\u001b[0m\u001b[0mincome_X_train\u001b[0m\u001b[0;34m,\u001b[0m \u001b[0;34m\"income\"\u001b[0m\u001b[0;34m)\u001b[0m\u001b[0;34m\u001b[0m\u001b[0m\n\u001b[0m\u001b[1;32m      9\u001b[0m \u001b[0mincome_X_test\u001b[0m\u001b[0;34m,\u001b[0m \u001b[0mincome_Y_test\u001b[0m \u001b[0;34m=\u001b[0m \u001b[0mprocessData\u001b[0m\u001b[0;34m(\u001b[0m\u001b[0mincome_test\u001b[0m\u001b[0;34m,\u001b[0m \u001b[0;34m\"income\"\u001b[0m\u001b[0;34m)\u001b[0m\u001b[0;34m\u001b[0m\u001b[0m\n\u001b[1;32m     10\u001b[0m \u001b[0;34m\u001b[0m\u001b[0m\n",
      "\u001b[0;32m<ipython-input-5-b6a74b55499d>\u001b[0m in \u001b[0;36mprocessData\u001b[0;34m(data, feature)\u001b[0m\n\u001b[1;32m      1\u001b[0m \u001b[0;32mdef\u001b[0m \u001b[0mprocessData\u001b[0m\u001b[0;34m(\u001b[0m\u001b[0mdata\u001b[0m\u001b[0;34m,\u001b[0m \u001b[0mfeature\u001b[0m\u001b[0;34m)\u001b[0m\u001b[0;34m:\u001b[0m\u001b[0;34m\u001b[0m\u001b[0m\n\u001b[0;32m----> 2\u001b[0;31m     \u001b[0mY\u001b[0m \u001b[0;34m=\u001b[0m \u001b[0mdata\u001b[0m\u001b[0;34m[\u001b[0m\u001b[0mfeature\u001b[0m\u001b[0;34m]\u001b[0m\u001b[0;34m\u001b[0m\u001b[0m\n\u001b[0m\u001b[1;32m      3\u001b[0m     \u001b[0mX\u001b[0m \u001b[0;34m=\u001b[0m \u001b[0mdata\u001b[0m\u001b[0;34m.\u001b[0m\u001b[0mdrop\u001b[0m\u001b[0;34m(\u001b[0m\u001b[0mfeature\u001b[0m\u001b[0;34m,\u001b[0m \u001b[0maxis\u001b[0m \u001b[0;34m=\u001b[0m \u001b[0;36m1\u001b[0m\u001b[0;34m)\u001b[0m\u001b[0;34m\u001b[0m\u001b[0m\n\u001b[1;32m      4\u001b[0m     \u001b[0mX\u001b[0m \u001b[0;34m=\u001b[0m \u001b[0mpd\u001b[0m\u001b[0;34m.\u001b[0m\u001b[0mget_dummies\u001b[0m\u001b[0;34m(\u001b[0m\u001b[0mX\u001b[0m\u001b[0;34m)\u001b[0m\u001b[0;34m\u001b[0m\u001b[0m\n\u001b[1;32m      5\u001b[0m     \u001b[0mX\u001b[0m \u001b[0;34m=\u001b[0m \u001b[0mpreprocessing\u001b[0m\u001b[0;34m.\u001b[0m\u001b[0mscale\u001b[0m\u001b[0;34m(\u001b[0m\u001b[0mX\u001b[0m\u001b[0;34m)\u001b[0m\u001b[0;34m\u001b[0m\u001b[0m\n",
      "\u001b[0;32mC:\\Users\\Wilche\\Desktop\\Machine_Learning\\assignment1\\conda\\lib\\site-packages\\pandas\\core\\frame.pyc\u001b[0m in \u001b[0;36m__getitem__\u001b[0;34m(self, key)\u001b[0m\n\u001b[1;32m   2137\u001b[0m             \u001b[0;32mreturn\u001b[0m \u001b[0mself\u001b[0m\u001b[0;34m.\u001b[0m\u001b[0m_getitem_multilevel\u001b[0m\u001b[0;34m(\u001b[0m\u001b[0mkey\u001b[0m\u001b[0;34m)\u001b[0m\u001b[0;34m\u001b[0m\u001b[0m\n\u001b[1;32m   2138\u001b[0m         \u001b[0;32melse\u001b[0m\u001b[0;34m:\u001b[0m\u001b[0;34m\u001b[0m\u001b[0m\n\u001b[0;32m-> 2139\u001b[0;31m             \u001b[0;32mreturn\u001b[0m \u001b[0mself\u001b[0m\u001b[0;34m.\u001b[0m\u001b[0m_getitem_column\u001b[0m\u001b[0;34m(\u001b[0m\u001b[0mkey\u001b[0m\u001b[0;34m)\u001b[0m\u001b[0;34m\u001b[0m\u001b[0m\n\u001b[0m\u001b[1;32m   2140\u001b[0m \u001b[0;34m\u001b[0m\u001b[0m\n\u001b[1;32m   2141\u001b[0m     \u001b[0;32mdef\u001b[0m \u001b[0m_getitem_column\u001b[0m\u001b[0;34m(\u001b[0m\u001b[0mself\u001b[0m\u001b[0;34m,\u001b[0m \u001b[0mkey\u001b[0m\u001b[0;34m)\u001b[0m\u001b[0;34m:\u001b[0m\u001b[0;34m\u001b[0m\u001b[0m\n",
      "\u001b[0;32mC:\\Users\\Wilche\\Desktop\\Machine_Learning\\assignment1\\conda\\lib\\site-packages\\pandas\\core\\frame.pyc\u001b[0m in \u001b[0;36m_getitem_column\u001b[0;34m(self, key)\u001b[0m\n\u001b[1;32m   2144\u001b[0m         \u001b[0;31m# get column\u001b[0m\u001b[0;34m\u001b[0m\u001b[0;34m\u001b[0m\u001b[0m\n\u001b[1;32m   2145\u001b[0m         \u001b[0;32mif\u001b[0m \u001b[0mself\u001b[0m\u001b[0;34m.\u001b[0m\u001b[0mcolumns\u001b[0m\u001b[0;34m.\u001b[0m\u001b[0mis_unique\u001b[0m\u001b[0;34m:\u001b[0m\u001b[0;34m\u001b[0m\u001b[0m\n\u001b[0;32m-> 2146\u001b[0;31m             \u001b[0;32mreturn\u001b[0m \u001b[0mself\u001b[0m\u001b[0;34m.\u001b[0m\u001b[0m_get_item_cache\u001b[0m\u001b[0;34m(\u001b[0m\u001b[0mkey\u001b[0m\u001b[0;34m)\u001b[0m\u001b[0;34m\u001b[0m\u001b[0m\n\u001b[0m\u001b[1;32m   2147\u001b[0m \u001b[0;34m\u001b[0m\u001b[0m\n\u001b[1;32m   2148\u001b[0m         \u001b[0;31m# duplicate columns & possible reduce dimensionality\u001b[0m\u001b[0;34m\u001b[0m\u001b[0;34m\u001b[0m\u001b[0m\n",
      "\u001b[0;32mC:\\Users\\Wilche\\Desktop\\Machine_Learning\\assignment1\\conda\\lib\\site-packages\\pandas\\core\\generic.pyc\u001b[0m in \u001b[0;36m_get_item_cache\u001b[0;34m(self, item)\u001b[0m\n\u001b[1;32m   1840\u001b[0m         \u001b[0mres\u001b[0m \u001b[0;34m=\u001b[0m \u001b[0mcache\u001b[0m\u001b[0;34m.\u001b[0m\u001b[0mget\u001b[0m\u001b[0;34m(\u001b[0m\u001b[0mitem\u001b[0m\u001b[0;34m)\u001b[0m\u001b[0;34m\u001b[0m\u001b[0m\n\u001b[1;32m   1841\u001b[0m         \u001b[0;32mif\u001b[0m \u001b[0mres\u001b[0m \u001b[0;32mis\u001b[0m \u001b[0mNone\u001b[0m\u001b[0;34m:\u001b[0m\u001b[0;34m\u001b[0m\u001b[0m\n\u001b[0;32m-> 1842\u001b[0;31m             \u001b[0mvalues\u001b[0m \u001b[0;34m=\u001b[0m \u001b[0mself\u001b[0m\u001b[0;34m.\u001b[0m\u001b[0m_data\u001b[0m\u001b[0;34m.\u001b[0m\u001b[0mget\u001b[0m\u001b[0;34m(\u001b[0m\u001b[0mitem\u001b[0m\u001b[0;34m)\u001b[0m\u001b[0;34m\u001b[0m\u001b[0m\n\u001b[0m\u001b[1;32m   1843\u001b[0m             \u001b[0mres\u001b[0m \u001b[0;34m=\u001b[0m \u001b[0mself\u001b[0m\u001b[0;34m.\u001b[0m\u001b[0m_box_item_values\u001b[0m\u001b[0;34m(\u001b[0m\u001b[0mitem\u001b[0m\u001b[0;34m,\u001b[0m \u001b[0mvalues\u001b[0m\u001b[0;34m)\u001b[0m\u001b[0;34m\u001b[0m\u001b[0m\n\u001b[1;32m   1844\u001b[0m             \u001b[0mcache\u001b[0m\u001b[0;34m[\u001b[0m\u001b[0mitem\u001b[0m\u001b[0;34m]\u001b[0m \u001b[0;34m=\u001b[0m \u001b[0mres\u001b[0m\u001b[0;34m\u001b[0m\u001b[0m\n",
      "\u001b[0;32mC:\\Users\\Wilche\\Desktop\\Machine_Learning\\assignment1\\conda\\lib\\site-packages\\pandas\\core\\internals.pyc\u001b[0m in \u001b[0;36mget\u001b[0;34m(self, item, fastpath)\u001b[0m\n\u001b[1;32m   3841\u001b[0m \u001b[0;34m\u001b[0m\u001b[0m\n\u001b[1;32m   3842\u001b[0m             \u001b[0;32mif\u001b[0m \u001b[0;32mnot\u001b[0m \u001b[0misna\u001b[0m\u001b[0;34m(\u001b[0m\u001b[0mitem\u001b[0m\u001b[0;34m)\u001b[0m\u001b[0;34m:\u001b[0m\u001b[0;34m\u001b[0m\u001b[0m\n\u001b[0;32m-> 3843\u001b[0;31m                 \u001b[0mloc\u001b[0m \u001b[0;34m=\u001b[0m \u001b[0mself\u001b[0m\u001b[0;34m.\u001b[0m\u001b[0mitems\u001b[0m\u001b[0;34m.\u001b[0m\u001b[0mget_loc\u001b[0m\u001b[0;34m(\u001b[0m\u001b[0mitem\u001b[0m\u001b[0;34m)\u001b[0m\u001b[0;34m\u001b[0m\u001b[0m\n\u001b[0m\u001b[1;32m   3844\u001b[0m             \u001b[0;32melse\u001b[0m\u001b[0;34m:\u001b[0m\u001b[0;34m\u001b[0m\u001b[0m\n\u001b[1;32m   3845\u001b[0m                 \u001b[0mindexer\u001b[0m \u001b[0;34m=\u001b[0m \u001b[0mnp\u001b[0m\u001b[0;34m.\u001b[0m\u001b[0marange\u001b[0m\u001b[0;34m(\u001b[0m\u001b[0mlen\u001b[0m\u001b[0;34m(\u001b[0m\u001b[0mself\u001b[0m\u001b[0;34m.\u001b[0m\u001b[0mitems\u001b[0m\u001b[0;34m)\u001b[0m\u001b[0;34m)\u001b[0m\u001b[0;34m[\u001b[0m\u001b[0misna\u001b[0m\u001b[0;34m(\u001b[0m\u001b[0mself\u001b[0m\u001b[0;34m.\u001b[0m\u001b[0mitems\u001b[0m\u001b[0;34m)\u001b[0m\u001b[0;34m]\u001b[0m\u001b[0;34m\u001b[0m\u001b[0m\n",
      "\u001b[0;32mC:\\Users\\Wilche\\Desktop\\Machine_Learning\\assignment1\\conda\\lib\\site-packages\\pandas\\core\\indexes\\base.pyc\u001b[0m in \u001b[0;36mget_loc\u001b[0;34m(self, key, method, tolerance)\u001b[0m\n\u001b[1;32m   2525\u001b[0m                 \u001b[0;32mreturn\u001b[0m \u001b[0mself\u001b[0m\u001b[0;34m.\u001b[0m\u001b[0m_engine\u001b[0m\u001b[0;34m.\u001b[0m\u001b[0mget_loc\u001b[0m\u001b[0;34m(\u001b[0m\u001b[0mkey\u001b[0m\u001b[0;34m)\u001b[0m\u001b[0;34m\u001b[0m\u001b[0m\n\u001b[1;32m   2526\u001b[0m             \u001b[0;32mexcept\u001b[0m \u001b[0mKeyError\u001b[0m\u001b[0;34m:\u001b[0m\u001b[0;34m\u001b[0m\u001b[0m\n\u001b[0;32m-> 2527\u001b[0;31m                 \u001b[0;32mreturn\u001b[0m \u001b[0mself\u001b[0m\u001b[0;34m.\u001b[0m\u001b[0m_engine\u001b[0m\u001b[0;34m.\u001b[0m\u001b[0mget_loc\u001b[0m\u001b[0;34m(\u001b[0m\u001b[0mself\u001b[0m\u001b[0;34m.\u001b[0m\u001b[0m_maybe_cast_indexer\u001b[0m\u001b[0;34m(\u001b[0m\u001b[0mkey\u001b[0m\u001b[0;34m)\u001b[0m\u001b[0;34m)\u001b[0m\u001b[0;34m\u001b[0m\u001b[0m\n\u001b[0m\u001b[1;32m   2528\u001b[0m \u001b[0;34m\u001b[0m\u001b[0m\n\u001b[1;32m   2529\u001b[0m         \u001b[0mindexer\u001b[0m \u001b[0;34m=\u001b[0m \u001b[0mself\u001b[0m\u001b[0;34m.\u001b[0m\u001b[0mget_indexer\u001b[0m\u001b[0;34m(\u001b[0m\u001b[0;34m[\u001b[0m\u001b[0mkey\u001b[0m\u001b[0;34m]\u001b[0m\u001b[0;34m,\u001b[0m \u001b[0mmethod\u001b[0m\u001b[0;34m=\u001b[0m\u001b[0mmethod\u001b[0m\u001b[0;34m,\u001b[0m \u001b[0mtolerance\u001b[0m\u001b[0;34m=\u001b[0m\u001b[0mtolerance\u001b[0m\u001b[0;34m)\u001b[0m\u001b[0;34m\u001b[0m\u001b[0m\n",
      "\u001b[0;32mpandas/_libs/index.pyx\u001b[0m in \u001b[0;36mpandas._libs.index.IndexEngine.get_loc\u001b[0;34m()\u001b[0m\n",
      "\u001b[0;32mpandas/_libs/index.pyx\u001b[0m in \u001b[0;36mpandas._libs.index.IndexEngine.get_loc\u001b[0;34m()\u001b[0m\n",
      "\u001b[0;31mKeyError\u001b[0m: 'income'"
     ],
     "output_type": "error"
    }
   ],
   "source": [
    "income_X, income_Y = processData(income, \"income\")\n",
    "income_X_train = income_X.sample(frac=0.2, random_state=1)\n",
    "income_X_test = income_X.drop(income_X_train.index)\n",
    "# print income_X_train.index\n",
    "# print(income_X_train)\n",
    "\n",
    "# income_test = income.drop(income_train.index)\n",
    "income_X_train, income_Y_train = processData(income_X_train, \"income\")\n",
    "income_X_test, income_Y_test = processData(income_test, \"income\")\n",
    "\n",
    "# print income_train.shape, income_test.shape\n",
    "# income_X_train.to_csv;\n",
    "# print (income_X_train.shape, income_X_test.shape, income_Y_train.shape, income_Y_test.shape)\n",
    "# display(income_X_train)\n",
    "# display(income_X_test)"
   ]
  },
  {
   "cell_type": "code",
   "execution_count": 23,
   "metadata": {
    "collapsed": false
   },
   "outputs": [
    {
     "name": "stdout",
     "output_type": "stream",
     "text": [
      "start\n"
     ]
    },
    {
     "name": "stdout",
     "output_type": "stream",
     "text": [
      "15.1749999523\n0.154000043869\n0.8119335347432024\n0.9589123867069487\nstart\n"
     ]
    },
    {
     "name": "stdout",
     "output_type": "stream",
     "text": [
      "17.2829999924\n0.112999916077\n0.8225579053373615\n0.9264350453172205\nstart\n"
     ]
    },
    {
     "name": "stdout",
     "output_type": "stream",
     "text": [
      "22.8420000076\n0.0759999752045\n0.8280966767371601\n0.9159113796576033\nstart\n"
     ]
    },
    {
     "name": "stdout",
     "output_type": "stream",
     "text": [
      "22.3280000687\n0.0380001068115\n0.8311178247734139\n0.9010574018126888\nstart\n"
     ]
    },
    {
     "name": "stdout",
     "output_type": "stream",
     "text": [
      "32.0999999046\n"
     ]
    },
    {
     "ename": "ValueError",
     "evalue": "Found array with 0 sample(s) (shape=(0, 107)) while a minimum of 1 is required.",
     "traceback": [
      "\u001b[0;31m\u001b[0m",
      "\u001b[0;31mValueError\u001b[0mTraceback (most recent call last)",
      "\u001b[0;32m<ipython-input-23-55b809c21a0e>\u001b[0m in \u001b[0;36m<module>\u001b[0;34m()\u001b[0m\n\u001b[1;32m     15\u001b[0m     \u001b[0;32mprint\u001b[0m\u001b[0;34m(\u001b[0m\u001b[0mend\u001b[0m \u001b[0;34m-\u001b[0m \u001b[0mstart\u001b[0m\u001b[0;34m)\u001b[0m\u001b[0;34m\u001b[0m\u001b[0m\n\u001b[1;32m     16\u001b[0m     \u001b[0mfit_time\u001b[0m\u001b[0;34m.\u001b[0m\u001b[0mappend\u001b[0m\u001b[0;34m(\u001b[0m\u001b[0mend\u001b[0m\u001b[0;34m-\u001b[0m\u001b[0mstart\u001b[0m\u001b[0;34m)\u001b[0m\u001b[0;34m\u001b[0m\u001b[0m\n\u001b[0;32m---> 17\u001b[0;31m     \u001b[0mscore\u001b[0m \u001b[0;34m=\u001b[0m \u001b[0mincome_MLP\u001b[0m\u001b[0;34m.\u001b[0m\u001b[0mscore\u001b[0m\u001b[0;34m(\u001b[0m\u001b[0mincome_X_test\u001b[0m\u001b[0;34m,\u001b[0m \u001b[0mincome_Y_test\u001b[0m\u001b[0;34m)\u001b[0m\u001b[0;34m\u001b[0m\u001b[0m\n\u001b[0m\u001b[1;32m     18\u001b[0m     \u001b[0mend2\u001b[0m \u001b[0;34m=\u001b[0m \u001b[0mtime\u001b[0m\u001b[0;34m.\u001b[0m\u001b[0mtime\u001b[0m\u001b[0;34m(\u001b[0m\u001b[0;34m)\u001b[0m\u001b[0;34m\u001b[0m\u001b[0m\n\u001b[1;32m     19\u001b[0m     \u001b[0;32mprint\u001b[0m\u001b[0;34m(\u001b[0m\u001b[0mend2\u001b[0m \u001b[0;34m-\u001b[0m \u001b[0mend\u001b[0m\u001b[0;34m)\u001b[0m\u001b[0;34m\u001b[0m\u001b[0m\n",
      "\u001b[0;32mC:\\Users\\Wilche\\Desktop\\Machine_Learning\\assignment1\\conda\\lib\\site-packages\\sklearn\\base.pyc\u001b[0m in \u001b[0;36mscore\u001b[0;34m(self, X, y, sample_weight)\u001b[0m\n\u001b[1;32m    347\u001b[0m         \"\"\"\n\u001b[1;32m    348\u001b[0m         \u001b[0;32mfrom\u001b[0m \u001b[0;34m.\u001b[0m\u001b[0mmetrics\u001b[0m \u001b[0;32mimport\u001b[0m \u001b[0maccuracy_score\u001b[0m\u001b[0;34m\u001b[0m\u001b[0m\n\u001b[0;32m--> 349\u001b[0;31m         \u001b[0;32mreturn\u001b[0m \u001b[0maccuracy_score\u001b[0m\u001b[0;34m(\u001b[0m\u001b[0my\u001b[0m\u001b[0;34m,\u001b[0m \u001b[0mself\u001b[0m\u001b[0;34m.\u001b[0m\u001b[0mpredict\u001b[0m\u001b[0;34m(\u001b[0m\u001b[0mX\u001b[0m\u001b[0;34m)\u001b[0m\u001b[0;34m,\u001b[0m \u001b[0msample_weight\u001b[0m\u001b[0;34m=\u001b[0m\u001b[0msample_weight\u001b[0m\u001b[0;34m)\u001b[0m\u001b[0;34m\u001b[0m\u001b[0m\n\u001b[0m\u001b[1;32m    350\u001b[0m \u001b[0;34m\u001b[0m\u001b[0m\n\u001b[1;32m    351\u001b[0m \u001b[0;34m\u001b[0m\u001b[0m\n",
      "\u001b[0;32mC:\\Users\\Wilche\\Desktop\\Machine_Learning\\assignment1\\conda\\lib\\site-packages\\sklearn\\neural_network\\multilayer_perceptron.pyc\u001b[0m in \u001b[0;36mpredict\u001b[0;34m(self, X)\u001b[0m\n\u001b[1;32m    947\u001b[0m         \"\"\"\n\u001b[1;32m    948\u001b[0m         \u001b[0mcheck_is_fitted\u001b[0m\u001b[0;34m(\u001b[0m\u001b[0mself\u001b[0m\u001b[0;34m,\u001b[0m \u001b[0;34m\"coefs_\"\u001b[0m\u001b[0;34m)\u001b[0m\u001b[0;34m\u001b[0m\u001b[0m\n\u001b[0;32m--> 949\u001b[0;31m         \u001b[0my_pred\u001b[0m \u001b[0;34m=\u001b[0m \u001b[0mself\u001b[0m\u001b[0;34m.\u001b[0m\u001b[0m_predict\u001b[0m\u001b[0;34m(\u001b[0m\u001b[0mX\u001b[0m\u001b[0;34m)\u001b[0m\u001b[0;34m\u001b[0m\u001b[0m\n\u001b[0m\u001b[1;32m    950\u001b[0m \u001b[0;34m\u001b[0m\u001b[0m\n\u001b[1;32m    951\u001b[0m         \u001b[0;32mif\u001b[0m \u001b[0mself\u001b[0m\u001b[0;34m.\u001b[0m\u001b[0mn_outputs_\u001b[0m \u001b[0;34m==\u001b[0m \u001b[0;36m1\u001b[0m\u001b[0;34m:\u001b[0m\u001b[0;34m\u001b[0m\u001b[0m\n",
      "\u001b[0;32mC:\\Users\\Wilche\\Desktop\\Machine_Learning\\assignment1\\conda\\lib\\site-packages\\sklearn\\neural_network\\multilayer_perceptron.pyc\u001b[0m in \u001b[0;36m_predict\u001b[0;34m(self, X)\u001b[0m\n\u001b[1;32m    658\u001b[0m             \u001b[0mThe\u001b[0m \u001b[0mdecision\u001b[0m \u001b[0mfunction\u001b[0m \u001b[0mof\u001b[0m \u001b[0mthe\u001b[0m \u001b[0msamples\u001b[0m \u001b[0;32mfor\u001b[0m \u001b[0meach\u001b[0m \u001b[0;32mclass\u001b[0m \u001b[0;32min\u001b[0m \u001b[0mthe\u001b[0m \u001b[0mmodel\u001b[0m\u001b[0;34m.\u001b[0m\u001b[0;34m\u001b[0m\u001b[0m\n\u001b[1;32m    659\u001b[0m         \"\"\"\n\u001b[0;32m--> 660\u001b[0;31m         \u001b[0mX\u001b[0m \u001b[0;34m=\u001b[0m \u001b[0mcheck_array\u001b[0m\u001b[0;34m(\u001b[0m\u001b[0mX\u001b[0m\u001b[0;34m,\u001b[0m \u001b[0maccept_sparse\u001b[0m\u001b[0;34m=\u001b[0m\u001b[0;34m[\u001b[0m\u001b[0;34m'csr'\u001b[0m\u001b[0;34m,\u001b[0m \u001b[0;34m'csc'\u001b[0m\u001b[0;34m,\u001b[0m \u001b[0;34m'coo'\u001b[0m\u001b[0;34m]\u001b[0m\u001b[0;34m)\u001b[0m\u001b[0;34m\u001b[0m\u001b[0m\n\u001b[0m\u001b[1;32m    661\u001b[0m \u001b[0;34m\u001b[0m\u001b[0m\n\u001b[1;32m    662\u001b[0m         \u001b[0;31m# Make sure self.hidden_layer_sizes is a list\u001b[0m\u001b[0;34m\u001b[0m\u001b[0;34m\u001b[0m\u001b[0m\n",
      "\u001b[0;32mC:\\Users\\Wilche\\Desktop\\Machine_Learning\\assignment1\\conda\\lib\\site-packages\\sklearn\\utils\\validation.pyc\u001b[0m in \u001b[0;36mcheck_array\u001b[0;34m(array, accept_sparse, dtype, order, copy, force_all_finite, ensure_2d, allow_nd, ensure_min_samples, ensure_min_features, warn_on_dtype, estimator)\u001b[0m\n\u001b[1;32m    460\u001b[0m                              \u001b[0;34m\" minimum of %d is required%s.\"\u001b[0m\u001b[0;34m\u001b[0m\u001b[0m\n\u001b[1;32m    461\u001b[0m                              % (n_samples, shape_repr, ensure_min_samples,\n\u001b[0;32m--> 462\u001b[0;31m                                 context))\n\u001b[0m\u001b[1;32m    463\u001b[0m \u001b[0;34m\u001b[0m\u001b[0m\n\u001b[1;32m    464\u001b[0m     \u001b[0;32mif\u001b[0m \u001b[0mensure_min_features\u001b[0m \u001b[0;34m>\u001b[0m \u001b[0;36m0\u001b[0m \u001b[0;32mand\u001b[0m \u001b[0marray\u001b[0m\u001b[0;34m.\u001b[0m\u001b[0mndim\u001b[0m \u001b[0;34m==\u001b[0m \u001b[0;36m2\u001b[0m\u001b[0;34m:\u001b[0m\u001b[0;34m\u001b[0m\u001b[0m\n",
      "\u001b[0;31mValueError\u001b[0m: Found array with 0 sample(s) (shape=(0, 107)) while a minimum of 1 is required."
     ],
     "output_type": "error"
    }
   ],
   "source": [
    "income_MLP = MLPClassifier()\n",
    "income_means_NN = []\n",
    "income_means_NN_training = []\n",
    "fit_time = []\n",
    "score_time = []\n",
    "for i in range(1, 5) :\n",
    "    print \"start\"\n",
    "    income_X_train = income_X.sample(frac=0.2 * i, random_state=1)\n",
    "    income_X_test = income_X.drop(income_X_train.index)\n",
    "    income_Y_train = income_Y[income_X_train.index]\n",
    "    income_Y_test = income_Y.drop(income_Y_train.index)\n",
    "    start = time.time()\n",
    "    income_MLP.fit(income_X_train, income_Y_train)\n",
    "    end = time.time()\n",
    "    print(end - start)\n",
    "    fit_time.append(end-start)\n",
    "    score = income_MLP.score(income_X_test, income_Y_test)\n",
    "    end2 = time.time()\n",
    "    print(end2 - end)\n",
    "    score_time.append(end2-end)\n",
    "    print score\n",
    "    income_means_NN.append(score)\n",
    "    score = income_MLP.score(income_X_train, income_Y_train)\n",
    "    income_means_NN_training.append(score)\n",
    "    print score\n",
    "# print \"start\"\n",
    "# for i in range(1, 5):\n",
    "#     income_sample = income.sample(income[\"income\"].count() / (20 * 5) * i)\n",
    "#     income_X, income_Y = processData(income_sample, \"income\")\n",
    "#     income_scores = cross_val_score(income_dt, income_X, income_Y, cv = 10)\n",
    "#     income_dt.fit(income_X, income_Y)\n",
    "#     income_means.append(income_scores.mean())\n",
    "#     income_std.append(income_scores.std())\n",
    "#     income_mean_training.append(income_dt.score(income_X, income_Y))\n",
    "# print \"done\""
   ]
  },
  {
   "cell_type": "code",
   "execution_count": 34,
   "metadata": {},
   "outputs": [
    {
     "name": "stdout",
     "output_type": "stream",
     "text": [
      "start\n"
     ]
    },
    {
     "name": "stdout",
     "output_type": "stream",
     "text": [
      "5.15199995041\n0.8826283987915408\n0.8347432024169185\n0.197000026703\nset 1\nstart\n"
     ]
    },
    {
     "name": "stdout",
     "output_type": "stream",
     "text": [
      "7.34599995613\n0.8950906344410876\n0.83595166163142\n0.18700003624\nset 1\nstart\n"
     ]
    },
    {
     "name": "stdout",
     "output_type": "stream",
     "text": [
      "8.18499994278\n0.8916918429003021\n0.8283987915407856\n0.18499994278\nset 1\nstart\n"
     ]
    },
    {
     "name": "stdout",
     "output_type": "stream",
     "text": [
      "12.0329999924\n0.909214501510574\n0.8287009063444108\n0.194000005722\nset 1\ndone\nstart\n"
     ]
    },
    {
     "name": "stdout",
     "output_type": "stream",
     "text": [
      "7.92199993134\n0.877416918429003\n0.8323262839879154\n0.199000120163\nset 2\n"
     ]
    },
    {
     "name": "stdout",
     "output_type": "stream",
     "text": [
      "start\n8.12800002098\n0.8740936555891239\n0.8362537764350453\n0.18799996376\nset 2\nstart\n"
     ]
    },
    {
     "name": "stdout",
     "output_type": "stream",
     "text": [
      "7.08200001717\n0.883761329305136\n0.8347432024169185\n0.186000108719\nset 2\nstart\n"
     ]
    },
    {
     "name": "stdout",
     "output_type": "stream",
     "text": [
      "8.94999980927\n0.8832326283987916\n0.8202416918429003\n0.18700003624\nset 2\ndone\nstart\n"
     ]
    },
    {
     "name": "stdout",
     "output_type": "stream",
     "text": [
      "1.4889998436\n0.8566465256797583\n0.8398791540785498\n0.1890001297\nset 3\nstart\n"
     ]
    },
    {
     "name": "stdout",
     "output_type": "stream",
     "text": [
      "3.51099991798\n0.8488670694864048\n0.8181268882175227\n0.18499994278\nset 3\nstart\n"
     ]
    },
    {
     "name": "stdout",
     "output_type": "stream",
     "text": [
      "7.32400012016\n0.8659365558912386\n0.8356495468277946\n0.1859998703\nset 3\nstart\n"
     ]
    },
    {
     "name": "stdout",
     "output_type": "stream",
     "text": [
      "6.15699982643\n0.8657099697885197\n0.834441087613293\n0.186000108719\nset 3\ndone\nstart\n"
     ]
    },
    {
     "name": "stdout",
     "output_type": "stream",
     "text": [
      "1.80200004578\n0.8257552870090634\n0.8081570996978852\n0.18799996376\nset 4\nstart\n"
     ]
    },
    {
     "name": "stdout",
     "output_type": "stream",
     "text": [
      "6.68400001526\n0.854607250755287\n0.8283987915407856\n0.186000108719\nset 4\nstart\n"
     ]
    },
    {
     "name": "stdout",
     "output_type": "stream",
     "text": [
      "6.10800004005\n0.8556646525679759\n0.8262839879154078\n0.18399977684\nset 4\nstart\n"
     ]
    },
    {
     "name": "stdout",
     "output_type": "stream",
     "text": [
      "5.08699989319\n"
     ]
    },
    {
     "name": "stdout",
     "output_type": "stream",
     "text": [
      "0.8560422960725076\n0.8280966767371601\n0.223000049591\nset 4\ndone\nstart\n"
     ]
    },
    {
     "name": "stdout",
     "output_type": "stream",
     "text": [
      "6.14800000191\n0.8495468277945619\n0.8223564954682779\n0.18499994278\nset 5\nstart\n"
     ]
    },
    {
     "name": "stdout",
     "output_type": "stream",
     "text": [
      "2.45399999619\n0.8483383685800604\n0.8323262839879154\n0.186999797821\nset 5\nstart\n"
     ]
    },
    {
     "name": "stdout",
     "output_type": "stream",
     "text": [
      "5.00400018692\n0.8601963746223565\n0.8311178247734139\n0.190999984741\nset 5\nstart\n"
     ]
    },
    {
     "name": "stdout",
     "output_type": "stream",
     "text": [
      "6.79500007629\n0.8549848942598187\n0.8241691842900302\n0.186999797821\nset 5\ndone\nstart\n"
     ]
    },
    {
     "name": "stdout",
     "output_type": "stream",
     "text": [
      "5.5529999733\n0.8036253776435045\n0.7990936555891238\n0.186000108719\nset 6\nstart\n"
     ]
    },
    {
     "name": "stdout",
     "output_type": "stream",
     "text": [
      "4.82799983025\n0.8388972809667674\n0.817522658610272\n0.199000120163\nset 6\nstart\n"
     ]
    },
    {
     "name": "stdout",
     "output_type": "stream",
     "text": [
      "5.26399993896\n0.8592900302114803\n0.8277945619335347\n0.19000005722\nset 6\nstart\n"
     ]
    },
    {
     "name": "stdout",
     "output_type": "stream",
     "text": [
      "5.95000004768\n0.8525679758308157\n0.8302114803625378\n0.184000015259\nset 6\ndone\nstart\n"
     ]
    },
    {
     "name": "stdout",
     "output_type": "stream",
     "text": [
      "7.53100013733\n0.8521148036253776\n0.8217522658610272\n0.1859998703\nset 7\nstart\n"
     ]
    },
    {
     "name": "stdout",
     "output_type": "stream",
     "text": [
      "4.9350001812\n0.8386706948640483\n0.817522658610272\n0.188999891281\nset 7\nstart\n"
     ]
    },
    {
     "name": "stdout",
     "output_type": "stream",
     "text": [
      "6.37600016594\n0.8430513595166164\n0.816012084592145\n0.184000015259\nset 7\nstart\n"
     ]
    },
    {
     "name": "stdout",
     "output_type": "stream",
     "text": [
      "4.36999988556\n0.8222054380664653\n0.8045317220543806\n0.185000181198\nset 7\ndone\nstart\n"
     ]
    },
    {
     "name": "stdout",
     "output_type": "stream",
     "text": [
      "2.91499996185\n0.8307401812688822\n0.8120845921450152\n0.18499994278\nset 8\nstart\n"
     ]
    },
    {
     "name": "stdout",
     "output_type": "stream",
     "text": [
      "4.91899991035\n0.818655589123867\n0.7972809667673716\n0.185000181198\nset 8\nstart\n"
     ]
    },
    {
     "name": "stdout",
     "output_type": "stream",
     "text": [
      "7.25499987602\n0.8564199395770393\n0.8305135951661632\n0.184000015259\nset 8\nstart\n"
     ]
    },
    {
     "name": "stdout",
     "output_type": "stream",
     "text": [
      "5.26399993896\n0.8432779456193353\n0.8181268882175227\n0.185000181198\nset 8\ndone\nstart\n"
     ]
    },
    {
     "name": "stdout",
     "output_type": "stream",
     "text": [
      "5.80999994278\n0.8322507552870091\n0.8021148036253777\n0.186000108719\nset 9\nstart\n"
     ]
    },
    {
     "name": "stdout",
     "output_type": "stream",
     "text": [
      "5.5720000267\n0.8112537764350454\n0.7933534743202417\n0.1859998703\nset 9\nstart\n"
     ]
    },
    {
     "name": "stdout",
     "output_type": "stream",
     "text": [
      "6.08899998665\n0.8392749244712991\n0.8072507552870091\n0.185000181198\nset 9\nstart\n"
     ]
    },
    {
     "name": "stdout",
     "output_type": "stream",
     "text": [
      "2.36299991608\n0.7962235649546828\n0.7882175226586102\n0.18700003624\nset 9\ndone\nstart\n"
     ]
    },
    {
     "name": "stdout",
     "output_type": "stream",
     "text": [
      "3.78600001335\n0.7979607250755287\n0.7927492447129909\n0.182999849319\nset 10\nstart\n"
     ]
    },
    {
     "name": "stdout",
     "output_type": "stream",
     "text": [
      "5.25\n0.8312688821752265\n0.8151057401812689\n0.186999797821\nset 10\nstart\n"
     ]
    },
    {
     "name": "stdout",
     "output_type": "stream",
     "text": [
      "6.96300005913\n0.8512839879154078\n0.8299093655589124\n0.184000015259\nset 10\nstart\n"
     ]
    },
    {
     "name": "stdout",
     "output_type": "stream",
     "text": [
      "5.21100020409\n0.78904833836858\n0.7737160120845922\n0.1859998703\nset 10\ndone\n"
     ]
    }
   ],
   "source": [
    "income_MLP = MLPClassifier()\n",
    "income_means_NN_layers = []\n",
    "income_means_NN_training_layers = []\n",
    "income_X_train = income_X.sample(frac=0.8, random_state=1)\n",
    "income_X_test = income_X.drop(income_X_train.index)\n",
    "income_Y_train = income_Y[income_X_train.index]\n",
    "income_Y_test = income_Y.drop(income_Y_train.index)\n",
    "for i in range(1, 11) :\n",
    "    test_scores = []\n",
    "    train_scores = []\n",
    "    layers = [i * 20]\n",
    "    income_MLP = MLPClassifier(learning_rate_init = float(i) / 50)\n",
    "    for j in range(1, 5):\n",
    "        print \"start\"\n",
    "        start = time.time()\n",
    "        income_MLP.fit(income_X_train, income_Y_train)\n",
    "        end = time.time()\n",
    "        print(end - start)\n",
    "        test_score = income_MLP.score(income_X_test, income_Y_test)\n",
    "        train_score = income_MLP.score(income_X_train, income_Y_train)\n",
    "        print(train_score)\n",
    "        print(test_score)\n",
    "        test_scores.append(test_score)\n",
    "        end2 = time.time()\n",
    "        print(end2 - end)\n",
    "        train_scores.append(train_score)\n",
    "        print (\"set \" + str(i))\n",
    "        \n",
    "    income_means_NN_layers.append(np.mean(test_score))\n",
    "    income_means_NN_training_layers.append(np.mean(train_score))\n",
    "    print \"done\""
   ]
  },
  {
   "cell_type": "code",
   "execution_count": 25,
   "metadata": {},
   "outputs": [
    {
     "name": "stdout",
     "output_type": "stream",
     "text": [
      "done\n"
     ]
    }
   ],
   "source": [
    "fig, ax = plt.subplots()\n",
    "fig.set_size_inches(15, 8)\n",
    "x = []\n",
    "for i in list(range(1,5)) :\n",
    "    x.append(i * .2)\n",
    "income_graph = sns.pointplot(x, income_means_NN, ax = ax)\n",
    "sns.pointplot(x, income_means_NN_training, ax = ax, color = 'r')\n",
    "income_graph.set_xlabel(\"% training data\")\n",
    "income_graph.set_ylabel(\"% accuracy\")\n",
    "income_graph.set_title(\"Income Set, NN, % training data vs % accuracy\")\n",
    "write_scores(\"Income_NN_training_data_accuracy.csv\", x, income_means_NN, x, income_means_NN_training)\n",
    "write_scores(\"Income_NN_training_accuracy_time.csv\", x, fit_time, x, score_time)\n",
    "plt.savefig(\"income_NN_training_accuracy_accuracy.png\")\n",
    "plt.show()\n",
    "print \"done\""
   ]
  },
  {
   "cell_type": "code",
   "execution_count": 36,
   "metadata": {},
   "outputs": [
    {
     "name": "stdout",
     "output_type": "stream",
     "text": [
      "done\n"
     ]
    }
   ],
   "source": [
    "fig, ax = plt.subplots()\n",
    "fig.set_size_inches(15, 8)\n",
    "x = []\n",
    "for i in list(range(1,11)) :\n",
    "    x.append(float(i)/20)\n",
    "income_graph = sns.pointplot(x, income_means_NN_layers, ax = ax)\n",
    "sns.pointplot(x, income_means_NN_training_layers, ax = ax, color = 'r')\n",
    "income_graph.set_xlabel(\"learning rate\")\n",
    "income_graph.set_ylabel(\"% accuracy\")\n",
    "income_graph.set_title(\"Income Set, NN, learning rate vs % accuracy\")\n",
    "plt.savefig(\"Income_NN_Learning_Accuracy.png\")\n",
    "write_scores(\"Income_NN_Learning_Accuracy.csv\", x, income_means_NN_layers, x, income_means_NN_training_layers)\n",
    "plt.show()\n",
    "print \"done\""
   ]
  },
  {
   "cell_type": "markdown",
   "metadata": {},
   "source": [
    "## Boosting"
   ]
  },
  {
   "cell_type": "code",
   "execution_count": 71,
   "metadata": {},
   "outputs": [
    {
     "name": "stdout",
     "output_type": "stream",
     "text": [
      "Beginning model complexity analysis for AdaBoost... max_depth\n"
     ]
    },
    {
     "name": "stdout",
     "output_type": "stream",
     "text": [
      "2,0.8306946656496593, 0.9209667673716012, 3.72200012207\n\n"
     ]
    },
    {
     "name": "stdout",
     "output_type": "stream",
     "text": [
      "3,0.822598521921979, 1.0, 5.14399981499\n\n"
     ]
    },
    {
     "name": "stdout",
     "output_type": "stream",
     "text": [
      "4,0.8245316988661281, 1.0, 6.83899998665\n\n"
     ]
    },
    {
     "name": "stdout",
     "output_type": "stream",
     "text": [
      "5,0.8335352166369631, 1.0, 7.0600001812\n\n"
     ]
    },
    {
     "name": "stdout",
     "output_type": "stream",
     "text": [
      "6,0.8312991435398503, 1.0, 7.17599987984\n\n"
     ]
    },
    {
     "name": "stdout",
     "output_type": "stream",
     "text": [
      "7,0.8350456227129989, 1.0, 7.71399998665\n\n"
     ]
    },
    {
     "name": "stdout",
     "output_type": "stream",
     "text": [
      "8,0.8398792880020264, 1.0, 7.46799993515\n\n"
     ]
    },
    {
     "name": "stdout",
     "output_type": "stream",
     "text": [
      "9,0.8198199127762481, 1.0, 7.62300014496\n\n"
     ]
    },
    {
     "name": "stdout",
     "output_type": "stream",
     "text": [
      "10,0.8088822432029262, 1.0, 7.25\n\n"
     ]
    },
    {
     "name": "stdout",
     "output_type": "stream",
     "text": [
      "11,0.8082176307927998, 1.0, 0.144999980927\n\n"
     ]
    }
   ],
   "source": [
    "file = open(\"income_adaboost_max_depth_results.csv\", \"w\")\n",
    "print(\"Beginning model complexity analysis for AdaBoost... max_depth\")\n",
    "file.write(\"max_depth\" + \", \" + \"cross_val_score\" + \", \" + \"training_score\" + \", \" + \"testing_score\" + \", training_time\\n\")\n",
    "for i in range(1, 11):\n",
    "    classifier = AdaBoostClassifier(base_estimator=DecisionTreeClassifier(max_depth=i * 5), n_estimators=50)\n",
    "    result = \"\"\n",
    "    input_list, output_list = processData(income, \"income\")\n",
    "    result += (str(i + 1) + \",\" + str(cross_val_score(\n",
    "    classifier, input_list, output_list).mean()) + \", \")\n",
    "    start = time.time()\n",
    "    classifier.fit(input_list, output_list)\n",
    "    end = time.time()\n",
    "    result += str(classifier.score(input_list, output_list)) + \", \" + str(end-start) + \"\\n\"\n",
    "    print(result)\n",
    "    file.write(result)"
   ]
  },
  {
   "cell_type": "code",
   "execution_count": 72,
   "metadata": {},
   "outputs": [],
   "source": [
    "file.close()"
   ]
  },
  {
   "cell_type": "markdown",
   "metadata": {},
   "source": [
    "## SVM"
   ]
  },
  {
   "cell_type": "code",
   "execution_count": 135,
   "metadata": {},
   "outputs": [
    {
     "name": "stdout",
     "output_type": "stream",
     "text": [
      "[0.8532906821746244, 0.8704587888192432, 0.8704587888192432, 0.8704587888192432, 0.8704587888192432, 0.8704587888192432, 0.8704587888192432, 0.8704587888192432, 0.8704587888192432, 0.8704587888192432]\n10\ndone1\n"
     ]
    }
   ],
   "source": [
    "fig, ax = plt.subplots()\n",
    "fig.set_size_inches(15, 8)\n",
    "x = []\n",
    "for i in list(range(1,21)) :\n",
    "    x.append(i * .05)\n",
    "print (income_means_boost)\n",
    "print len(x)\n",
    "income_graph = sns.pointplot(x, income_means_boost, ax = ax, label='test_set_accuracy')\n",
    "sns.pointplot(x, income_mean_training_boost, ax = ax, color = 'r', label='train_set_accuracy')\n",
    "income_graph.set_xlabel(\"% training data\")\n",
    "income_graph.set_ylabel(\"% accuracy\")\n",
    "income_graph.set_title(\"Income Set, Boosting, % training data vs % accuracy\")\n",
    "# income_graph.legend(loc='upper left')\n",
    "# plt.legend()\n",
    "plt.show()\n",
    "print \"done1\"   "
   ]
  },
  {
   "cell_type": "markdown",
   "metadata": {},
   "source": [
    "## SVM"
   ]
  },
  {
   "cell_type": "code",
   "execution_count": 46,
   "metadata": {},
   "outputs": [],
   "source": [
    "def runSVM(kernel, runs, data, feature):\n",
    "    score = []\n",
    "    score_train = []\n",
    "    data_X, data_Y = processData(data, feature)\n",
    "    data_X_train = data_X.sample(frac=0.8, random_state=1)\n",
    "    # print(data_X_train.index)\n",
    "    data_X_test = data_X.drop(data_X_train.index)\n",
    "    data_Y_train = data_Y[data_X_train.index]\n",
    "    data_Y_test = data_Y.drop(data_Y_train.index)\n",
    "    for i in range(1, runs): \n",
    "        print i\n",
    "        SVM = SVC(kernel=kernel)\n",
    "        SVM.fit(data_X_train, data_Y_train)\n",
    "        score.append(SVM.score(data_X_test, data_Y_test))\n",
    "        score_train.append(SVM.score(data_X_train, data_Y_train))\n",
    "    return np.mean(score), np.mean(score_train), "
   ]
  },
  {
   "cell_type": "code",
   "execution_count": 37,
   "metadata": {},
   "outputs": [
    {
     "name": "stdout",
     "output_type": "stream",
     "text": [
      "start\n"
     ]
    },
    {
     "name": "stdout",
     "output_type": "stream",
     "text": [
      "1\n"
     ]
    },
    {
     "name": "stdout",
     "output_type": "stream",
     "text": [
      "2\n"
     ]
    },
    {
     "name": "stdout",
     "output_type": "stream",
     "text": [
      "3\n"
     ]
    },
    {
     "name": "stdout",
     "output_type": "stream",
     "text": [
      "4\n"
     ]
    },
    {
     "name": "stdout",
     "output_type": "stream",
     "text": [
      "5\n"
     ]
    },
    {
     "name": "stdout",
     "output_type": "stream",
     "text": [
      "6\n"
     ]
    },
    {
     "name": "stdout",
     "output_type": "stream",
     "text": [
      "7\n"
     ]
    },
    {
     "name": "stdout",
     "output_type": "stream",
     "text": [
      "8\n"
     ]
    },
    {
     "name": "stdout",
     "output_type": "stream",
     "text": [
      "9\n"
     ]
    },
    {
     "name": "stdout",
     "output_type": "stream",
     "text": [
      "10\ndone\n"
     ]
    }
   ],
   "source": [
    "income_SVM = SVC()\n",
    "income_means_SVM = []\n",
    "income_std_SVM = []\n",
    "income_mean_SVM_training = []\n",
    "time_run = []\n",
    "print \"start\"\n",
    "for i in range(1, 11):\n",
    "    income_sample = income.sample(income[\"income\"].count() / 10 * i)\n",
    "    income_X, income_Y = processData(income_sample, \"income\")\n",
    "    income_scores = cross_val_score(income_SVM, income_X, income_Y, cv = 10)\n",
    "    start = time.time()\n",
    "    income_SVM.fit(income_X, income_Y)\n",
    "    end = time.time()\n",
    "    time_run.append(end - start)\n",
    "    income_means_SVM.append(income_scores.mean())\n",
    "    income_std_SVM.append(income_scores.std())\n",
    "    income_mean_SVM_training.append(income_SVM.score(income_X, income_Y))\n",
    "    print i\n",
    "print \"done\""
   ]
  },
  {
   "cell_type": "code",
   "execution_count": 47,
   "metadata": {},
   "outputs": [
    {
     "name": "stdout",
     "output_type": "stream",
     "text": [
      "1\n"
     ]
    },
    {
     "name": "stdout",
     "output_type": "stream",
     "text": [
      "1\n"
     ]
    },
    {
     "name": "stdout",
     "output_type": "stream",
     "text": [
      "1\n"
     ]
    },
    {
     "name": "stdout",
     "output_type": "stream",
     "text": [
      "1\n"
     ]
    }
   ],
   "source": [
    "income_means_SVM = []\n",
    "income_std_SVM = []\n",
    "income_mean_SVM_training = []\n",
    "linear_score, linear_score_train = runSVM('linear', 2, income, \"income\")\n",
    "poly_score, poly_score_train = runSVM('poly', 2, income, \"income\")\n",
    "rbf_score, rbf_score_train = runSVM('rbf', 2, income, \"income\")\n",
    "sigmoid_score, sigmoid_score_train = runSVM('sigmoid', 2, income, \"income\")\n"
   ]
  },
  {
   "cell_type": "code",
   "execution_count": 51,
   "metadata": {},
   "outputs": [
    {
     "data": {
      "text/html": [
       "<div>\n",
       "<style scoped>\n",
       "    .dataframe tbody tr th:only-of-type {\n",
       "        vertical-align: middle;\n",
       "    }\n",
       "\n",
       "    .dataframe tbody tr th {\n",
       "        vertical-align: top;\n",
       "    }\n",
       "\n",
       "    .dataframe thead th {\n",
       "        text-align: right;\n",
       "    }\n",
       "</style>\n",
       "<table border=\"1\" class=\"dataframe\">\n",
       "  <thead>\n",
       "    <tr style=\"text-align: right;\">\n",
       "      <th></th>\n",
       "      <th>linear</th>\n",
       "      <th>poly</th>\n",
       "      <th>rbf</th>\n",
       "      <th>sigmoid</th>\n",
       "    </tr>\n",
       "  </thead>\n",
       "  <tbody>\n",
       "    <tr>\n",
       "      <th>0</th>\n",
       "      <td>0.840181</td>\n",
       "      <td>0.816918</td>\n",
       "      <td>0.838973</td>\n",
       "      <td>0.833233</td>\n",
       "    </tr>\n",
       "    <tr>\n",
       "      <th>1</th>\n",
       "      <td>0.853776</td>\n",
       "      <td>0.854909</td>\n",
       "      <td>0.864502</td>\n",
       "      <td>0.827719</td>\n",
       "    </tr>\n",
       "  </tbody>\n",
       "</table>\n",
       "</div>"
      ],
      "text/plain": [
       "<div>\n",
       "<style scoped>\n",
       "    .dataframe tbody tr th:only-of-type {\n",
       "        vertical-align: middle;\n",
       "    }\n",
       "\n",
       "    .dataframe tbody tr th {\n",
       "        vertical-align: top;\n",
       "    }\n",
       "\n",
       "    .dataframe thead th {\n",
       "        text-align: right;\n",
       "    }\n",
       "</style>\n",
       "<table border=\"1\" class=\"dataframe\">\n",
       "  <thead>\n",
       "    <tr style=\"text-align: right;\">\n",
       "      <th></th>\n",
       "      <th>linear</th>\n",
       "      <th>poly</th>\n",
       "      <th>rbf</th>\n",
       "      <th>sigmoid</th>\n",
       "    </tr>\n",
       "  </thead>\n",
       "  <tbody>\n",
       "    <tr>\n",
       "      <th>0</th>\n",
       "      <td>0.840181</td>\n",
       "      <td>0.816918</td>\n",
       "      <td>0.838973</td>\n",
       "      <td>0.833233</td>\n",
       "    </tr>\n",
       "    <tr>\n",
       "      <th>1</th>\n",
       "      <td>0.853776</td>\n",
       "      <td>0.854909</td>\n",
       "      <td>0.864502</td>\n",
       "      <td>0.827719</td>\n",
       "    </tr>\n",
       "  </tbody>\n",
       "</table>\n",
       "</div>"
      ]
     },
     "execution_count": 0,
     "metadata": {},
     "output_type": "execute_result"
    }
   ],
   "source": [
    "SVM_df = pd.DataFrame({'linear': [linear_score, linear_score_train], 'poly': [poly_score, poly_score_train], 'rbf': [rbf_score, rbf_score_train], 'sigmoid': [sigmoid_score, sigmoid_score_train]})\n",
    "display(SVM_df)\n",
    "file = open(\"income_SVM_kernel.csv\", \"w\")\n",
    "file.write(\"linear_score, linear_train, poly_score, poly_train, rbf_score, rbf_train, sigmoid_score, sigmoid_train\\n\")\n",
    "file.write(str(linear_score) + \", \" + str(linear_score_train) + \", \" + str(poly_score) + \", \" \n",
    "           + str(poly_score_train) + \", \" + str(rbf_score) + \", \" + str(rbf_score_train) + ',' + str(sigmoid_score) + \",\" + str(sigmoid_score_train))\n",
    "file.close()"
   ]
  },
  {
   "cell_type": "code",
   "execution_count": 44,
   "metadata": {},
   "outputs": [
    {
     "name": "stdout",
     "output_type": "stream",
     "text": [
      "['0.10', '0.20', '0.30', '0.40', '0.50', '0.60', '0.70', '0.80', '0.90', '1.00']\n[0.8423282041692268, 0.8392643300474626, 0.8434991751910609, 0.8404906969455543, 0.8404838165840178, 0.8453242235876358, 0.8454034509834389, 0.8419920960435452, 0.8451166437341687, 0.8441089468100653]\ndone\n"
     ]
    }
   ],
   "source": [
    "fig, ax = plt.subplots()\n",
    "fig.set_size_inches(15, 8)\n",
    "x = []\n",
    "for i in list(range(1,11)) :\n",
    "    x.append(format(i * .1, '.2f'))\n",
    "print x\n",
    "print income_means_SVM\n",
    "income_graph = sns.pointplot(x, income_means_SVM, ax = ax)\n",
    "sns.pointplot(x, income_mean_SVM_training, ax = ax, color = 'r')\n",
    "income_graph.set_xlabel(\"% training data\")\n",
    "income_graph.set_ylabel(\"% accuracy\")\n",
    "income_graph.set_title(\"Income Set, SVM, % training data vs % accuracy\")\n",
    "plt.savefig(\"Income_SVM_training_accuracy.png\")\n",
    "write_scores(\"Income_SVM_training_accuracy.csv\", x, income_means_SVM, x, income_mean_SVM_training)\n",
    "write_scores(\"Income_SVM_time.csv\", x, time_run, None, None)\n",
    "plt.show()\n",
    "print \"done\""
   ]
  },
  {
   "cell_type": "markdown",
   "metadata": {},
   "source": [
    "## HR Set"
   ]
  },
  {
   "cell_type": "code",
   "execution_count": 8,
   "metadata": {},
   "outputs": [
    {
     "name": "stdout",
     "output_type": "stream",
     "text": [
      "done\n"
     ]
    }
   ],
   "source": [
    "HR_dt = DecisionTreeClassifier(max_leaf_nodes=7)\n",
    "HR_means = []\n",
    "HR_std = []\n",
    "HR_mean_training = []\n",
    "for i in range(1, 51):\n",
    "    HR_sample = HR.sample(HR[\"left\"].count() / 50 * i)\n",
    "    HR_Y = HR_sample[\"left\"]\n",
    "    HR_X = HR_sample.drop(\"left\", axis = 1)\n",
    "    HR_X = pd.get_dummies(HR_X)\n",
    "    HR_X = preprocessing.scale(HR_X)\n",
    "    HR_scores = cross_val_score(HR_dt, HR_X, HR_Y, cv = 10)\n",
    "    HR_dt.fit(HR_X, HR_Y)\n",
    "    HR_means.append(HR_scores.mean())\n",
    "    HR_std.append(HR_scores.std())\n",
    "    HR_mean_training.append(HR_dt.score(HR_X, HR_Y))\n",
    "print \"done\""
   ]
  },
  {
   "cell_type": "code",
   "execution_count": 9,
   "metadata": {},
   "outputs": [
    {
     "name": "stdout",
     "output_type": "stream",
     "text": [
      "done\n"
     ]
    }
   ],
   "source": [
    "fig, ax = plt.subplots()\n",
    "fig.set_size_inches(15, 8)\n",
    "x = []\n",
    "for i in list(range(1,51)) :\n",
    "    x.append(i*2)\n",
    "HR_graph = sns.pointplot(x, HR_means, ax = ax)\n",
    "sns.pointplot(x, HR_mean_training, ax = ax, color = 'r')\n",
    "HR_graph.set_xlabel(\"% of training data\")\n",
    "HR_graph.set_ylabel(\"% accuracy\")\n",
    "HR_graph.set_title(\"HR Set, Decision Tree, % of training data vs % accuracy\")\n",
    "plt.show()\n",
    "print \"done\""
   ]
  },
  {
   "cell_type": "code",
   "execution_count": null,
   "metadata": {},
   "outputs": [],
   "source": []
  }
 ],
 "metadata": {
  "kernelspec": {
   "display_name": "Python 2",
   "language": "python",
   "name": "python2"
  },
  "language_info": {
   "codemirror_mode": {
    "name": "ipython",
    "version": 2
   },
   "file_extension": ".py",
   "mimetype": "text/x-python",
   "name": "python",
   "nbconvert_exporter": "python",
   "pygments_lexer": "ipython2",
   "version": "2.7.6"
  }
 },
 "nbformat": 4,
 "nbformat_minor": 0
}
