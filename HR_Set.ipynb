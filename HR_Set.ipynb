{
 "cells": [
  {
   "cell_type": "code",
   "execution_count": 3,
   "metadata": {
    "collapsed": true
   },
   "outputs": [],
   "source": [
    "import pandas as pd\n",
    "import seaborn as sns\n",
    "import matplotlib.pyplot as plt\n",
    "import numpy as np\n",
    "import os\n",
    "from sklearn.neighbors import KNeighborsClassifier\n",
    "from sklearn.neural_network import MLPClassifier\n",
    "from sklearn.tree import DecisionTreeClassifier\n",
    "from sklearn.model_selection import cross_val_score\n",
    "from sklearn import preprocessing\n",
    "from sklearn.svm import SVC\n",
    "from sklearn.ensemble import AdaBoostClassifier\n",
    "from IPython.display import display, HTML\n",
    "import time"
   ]
  },
  {
   "cell_type": "code",
   "execution_count": 4,
   "metadata": {},
   "outputs": [],
   "source": [
    "HR = pd.read_csv(\"./HR_50.csv\")"
   ]
  },
  {
   "cell_type": "code",
   "execution_count": 5,
   "metadata": {},
   "outputs": [],
   "source": [
    "def processData(data, feature): \n",
    "    Y = data[feature]\n",
    "    X = data.drop(feature, axis = 1)\n",
    "    X = pd.get_dummies(X)\n",
    "    X = preprocessing.scale(X)\n",
    "    X = pd.DataFrame(X)\n",
    "    return X, Y"
   ]
  },
  {
   "cell_type": "code",
   "execution_count": 6,
   "metadata": {},
   "outputs": [],
   "source": [
    "def write_scores(filename, x, y):\n",
    "    file = open(filename, \"w\")\n",
    "    if x is not None:\n",
    "        for i in range(0, len(x)):\n",
    "            file.write(str(x[i]) + \", \")\n",
    "            file.write(str(y[i]) + \"\\n\")\n",
    "        file.write(\"\\n\")\n",
    "    file.close()"
   ]
  },
  {
   "cell_type": "code",
   "execution_count": 7,
   "metadata": {},
   "outputs": [],
   "source": [
    "def write_scores(filename, x, y, a, b):\n",
    "    file = open(filename, \"w\")\n",
    "    if x is not None:\n",
    "        for i in range(0, len(x)):\n",
    "            file.write(str(x[i]) + \", \")\n",
    "            file.write(str(y[i]) + \"\\n\")\n",
    "        file.write(\"\\n\")\n",
    "    file.write(\"\\n\")\n",
    "    if a is not None:\n",
    "        for i in range(0, len(a)):\n",
    "            file.write(str(a[i]) + \", \")\n",
    "            file.write(str(b[i]) + \"\\n\")\n",
    "        file.write(\"\\n\")\n",
    "    file.close()"
   ]
  },
  {
   "cell_type": "code",
   "execution_count": 63,
   "metadata": {},
   "outputs": [
    {
     "name": "stdout",
     "output_type": "stream",
     "text": [
      "start\n"
     ]
    },
    {
     "name": "stdout",
     "output_type": "stream",
     "text": [
      "done\n"
     ]
    }
   ],
   "source": [
    "# data size vs accuracy\n",
    "HR_dt = DecisionTreeClassifier(max_depth=30)\n",
    "HR_means = []\n",
    "HR_std = []\n",
    "HR_mean_training = []\n",
    "training_time = []\n",
    "print \"start\"\n",
    "for i in range(1, 51):\n",
    "    HR_sample = HR.sample(HR[\"Age\"].count() / 50 * i)\n",
    "    HR_X, HR_Y = processData(HR_sample, \"JobSatisfaction\")\n",
    "    HR_scores = cross_val_score(HR_dt, HR_X, HR_Y, cv = 5)\n",
    "    start = time.time()\n",
    "    HR_dt.fit(HR_X, HR_Y)\n",
    "    end = time.time()\n",
    "    HR_means.append(HR_scores.mean())\n",
    "    HR_std.append(HR_scores.std())\n",
    "    HR_mean_training.append(HR_dt.score(HR_X, HR_Y))\n",
    "    training_time.append(end-start)\n",
    "print \"done\"\n"
   ]
  },
  {
   "cell_type": "code",
   "execution_count": 64,
   "metadata": {},
   "outputs": [
    {
     "name": "stdout",
     "output_type": "stream",
     "text": [
      "start\n1\n"
     ]
    },
    {
     "name": "stdout",
     "output_type": "stream",
     "text": [
      "2\n3\n"
     ]
    },
    {
     "name": "stdout",
     "output_type": "stream",
     "text": [
      "4\n5\n"
     ]
    },
    {
     "name": "stdout",
     "output_type": "stream",
     "text": [
      "6\n"
     ]
    },
    {
     "name": "stdout",
     "output_type": "stream",
     "text": [
      "7\n"
     ]
    },
    {
     "name": "stdout",
     "output_type": "stream",
     "text": [
      "8\n9\n"
     ]
    },
    {
     "name": "stdout",
     "output_type": "stream",
     "text": [
      "10\ndone\n"
     ]
    }
   ],
   "source": [
    "#max depth\n",
    "HR_means_leaf = []\n",
    "HR_std_leaf = []\n",
    "HR_mean_training_leaf = []\n",
    "print \"start\"\n",
    "for i in range(1, 11):\n",
    "    HR_dt = DecisionTreeClassifier(max_depth=i*5)\n",
    "    # HR_sample = HR.sample(HR[\"HR\"].count() / 51 * (i - 1))\n",
    "    HR_X, HR_Y = processData(HR, \"JobSatisfaction\")\n",
    "    HR_scores = cross_val_score(HR_dt, HR_X, HR_Y, cv = 10)\n",
    "    HR_means_leaf.append(HR_scores.mean())\n",
    "    HR_std_leaf.append(HR_scores.std())\n",
    "    HR_dt.fit(HR_X, HR_Y)\n",
    "    HR_mean_training_leaf.append(HR_dt.score(HR_X, HR_Y))\n",
    "    print i\n",
    "print \"done\""
   ]
  },
  {
   "cell_type": "code",
   "execution_count": 65,
   "metadata": {},
   "outputs": [
    {
     "name": "stdout",
     "output_type": "stream",
     "text": [
      "start\n"
     ]
    }
   ],
   "source": [
    "fig, ax = plt.subplots()\n",
    "fig.set_size_inches(15, 8)\n",
    "x = []\n",
    "print \"start\"\n",
    "for i in list(range(1,51)) :\n",
    "    x.append(i*2)\n",
    "HR_graph = sns.pointplot(x, HR_means, ax = ax, color = 'r')\n",
    "# HR_graph = plt.errorbar(x, HR_mean_training, HR_std, linestyle='None', marker='^')\n",
    "# sns.pointplot(x, HR_mean_training, ax = ax, color = 'r')\n",
    "\n",
    "HR_graph.set_xlabel(\"% of training data\")\n",
    "HR_graph.set_ylabel(\"% accuracy\")\n",
    "HR_graph.set_title(\"HR Set, Decision Tree, % of training data vs % accuracy\")\n",
    "plt.savefig(\"HR_DT_Training_Data_Accuracy\")\n",
    "write_scores(\"HR_DT_Training_Data_Accuracy.csv\", x, HR_means, None, None)\n",
    "plt.show()\n"
   ]
  },
  {
   "cell_type": "code",
   "execution_count": 66,
   "metadata": {},
   "outputs": [
    {
     "name": "stdout",
     "output_type": "stream",
     "text": [
      "10\n10\ndone\n"
     ]
    }
   ],
   "source": [
    "\n",
    "fig2, ax2 = plt.subplots()\n",
    "fig2.set_size_inches(15, 8)\n",
    "x = []\n",
    "for i in list(range(1,11)) :\n",
    "    x.append(i*5)\n",
    "print len(x)\n",
    "print len(HR_mean_training_leaf)\n",
    "HR_graph_leaf = sns.pointplot(x, HR_means_leaf, ax = ax2)\n",
    "sns.pointplot(x, HR_means_leaf, ax = ax2, color = 'r')\n",
    "HR_graph_leaf.set_xlabel(\"# of leaf nodes\")\n",
    "HR_graph_leaf.set_ylabel(\"% accuracy\")\n",
    "HR_graph_leaf.set_title(\"HR Set, Decision Tree, # of leaf nodes vs % accuracy\")\n",
    "plt.savefig(\"HR_DT_LeafNodes_Accuracy\")\n",
    "write_scores(\"HR_DT_LeafNodes_Accuracy.csv\", x, HR_means_leaf, None, None)\n",
    "write_scores(\"HR_DT_LeafNodes_Accuracy_training.csv\", x, HR_mean_training_leaf, None, None)\n",
    "write_scores(\"HR_DT_training_time_data_size.csv\", x, training_time, None, None)\n",
    "plt.show()\n",
    "print \"done\""
   ]
  },
  {
   "cell_type": "markdown",
   "metadata": {},
   "source": [
    "#Boosting"
   ]
  },
  {
   "cell_type": "code",
   "execution_count": 67,
   "metadata": {},
   "outputs": [
    {
     "name": "stdout",
     "output_type": "stream",
     "text": [
      "Beginning model complexity analysis for AdaBoost... max_depth\n"
     ]
    },
    {
     "name": "stdout",
     "output_type": "stream",
     "text": [
      "5,0.5100888797203353, 1.0, 0.452000141144\n\n"
     ]
    },
    {
     "name": "stdout",
     "output_type": "stream",
     "text": [
      "10,0.55569775596818, 1.0, 0.652000188828\n\n"
     ]
    },
    {
     "name": "stdout",
     "output_type": "stream",
     "text": [
      "15,0.5563738716282934, 1.0, 0.705999851227\n\n"
     ]
    },
    {
     "name": "stdout",
     "output_type": "stream",
     "text": [
      "20,0.5236512699282521, 1.0, 0.0169999599457\n\n25,0.5202554513156746, 1.0, 0.0160000324249\n\n30,0.5236568118598924, 1.0, 0.0169999599457\n\n35,0.5188949070979876, 1.0, 0.0159997940063\n\n"
     ]
    },
    {
     "name": "stdout",
     "output_type": "stream",
     "text": [
      "40,0.5209357234245182, 1.0, 0.0160000324249\n\n45,0.5182146349891441, 1.0, 0.0160000324249\n\n50,0.5188949070979876, 1.0, 0.0160000324249\n\n"
     ]
    }
   ],
   "source": [
    "file = open(\"HR_adaboost_max_depth_results.csv\", \"w\")\n",
    "print(\"Beginning model complexity analysis for AdaBoost... max_depth\")\n",
    "file.write(\"max_depth\" + \", \" + \"cross_val_score\" + \", \" + \"training_score\" + \", \" + \"testing_score\" + \", training_time\\n\")\n",
    "for i in range(1, 11):\n",
    "    classifier = AdaBoostClassifier(base_estimator=DecisionTreeClassifier(max_depth=i * 5), n_estimators=50)\n",
    "    result = \"\"\n",
    "    input_list, output_list = processData(HR, \"JobSatisfaction\")\n",
    "    result += (str(i * 5) + \",\" + str(cross_val_score(\n",
    "    classifier, input_list, output_list).mean()) + \", \")\n",
    "    start = time.time()\n",
    "    classifier.fit(input_list, output_list)\n",
    "    end = time.time()\n",
    "    result += str(classifier.score(input_list, output_list)) + \", \" + str(end-start) + \"\\n\"\n",
    "    print(result)\n",
    "    file.write(result)\n",
    "file.close()"
   ]
  },
  {
   "cell_type": "markdown",
   "metadata": {},
   "source": [
    "#KNN"
   ]
  },
  {
   "cell_type": "code",
   "execution_count": 68,
   "metadata": {},
   "outputs": [
    {
     "name": "stdout",
     "output_type": "stream",
     "text": [
      "start\n1\n2\n3\n"
     ]
    },
    {
     "name": "stdout",
     "output_type": "stream",
     "text": [
      "4\n5\n"
     ]
    },
    {
     "name": "stdout",
     "output_type": "stream",
     "text": [
      "6\n"
     ]
    },
    {
     "name": "stdout",
     "output_type": "stream",
     "text": [
      "7\n"
     ]
    },
    {
     "name": "stdout",
     "output_type": "stream",
     "text": [
      "8\n"
     ]
    },
    {
     "name": "stdout",
     "output_type": "stream",
     "text": [
      "9\n"
     ]
    },
    {
     "name": "stdout",
     "output_type": "stream",
     "text": [
      "10\ndone\n"
     ]
    }
   ],
   "source": [
    "HR_knn = KNeighborsClassifier(n_neighbors = 5)\n",
    "HR_means_KNN = []\n",
    "HR_std_KNN = []\n",
    "HR_mean_training_KNN = []\n",
    "training_time = []\n",
    "print \"start\"\n",
    "for i in range(1, 11):\n",
    "    HR_sample = HR.sample(HR[\"JobSatisfaction\"].count() / 10 * i)\n",
    "    HR_X, HR_Y = processData(HR_sample, \"JobSatisfaction\")\n",
    "    HR_scores = cross_val_score(HR_knn, HR_X, HR_Y, cv = 10)\n",
    "    start = time.time()\n",
    "    HR_knn.fit(HR_X, HR_Y)\n",
    "    end = time.time()\n",
    "    training_time.append(end-start)\n",
    "    HR_means_KNN.append(HR_scores.mean())\n",
    "    HR_std_KNN.append(HR_scores.std())\n",
    "    HR_mean_training_KNN.append(HR_knn.score(HR_X, HR_Y))\n",
    "    print i\n",
    "print \"done\""
   ]
  },
  {
   "cell_type": "code",
   "execution_count": 70,
   "metadata": {},
   "outputs": [
    {
     "name": "stdout",
     "output_type": "stream",
     "text": [
      "start\n"
     ]
    },
    {
     "name": "stdout",
     "output_type": "stream",
     "text": [
      "start training set\n1\n"
     ]
    },
    {
     "name": "stdout",
     "output_type": "stream",
     "text": [
      "start training set\n6\n"
     ]
    },
    {
     "name": "stdout",
     "output_type": "stream",
     "text": [
      "start training set\n11\n"
     ]
    },
    {
     "name": "stdout",
     "output_type": "stream",
     "text": [
      "start training set\n16\n"
     ]
    },
    {
     "name": "stdout",
     "output_type": "stream",
     "text": [
      "start training set\n21\n"
     ]
    },
    {
     "name": "stdout",
     "output_type": "stream",
     "text": [
      "start training set\n26\n"
     ]
    },
    {
     "name": "stdout",
     "output_type": "stream",
     "text": [
      "start training set\n31\n"
     ]
    },
    {
     "name": "stdout",
     "output_type": "stream",
     "text": [
      "start training set\n36\n"
     ]
    },
    {
     "name": "stdout",
     "output_type": "stream",
     "text": [
      "start training set\n"
     ]
    },
    {
     "name": "stdout",
     "output_type": "stream",
     "text": [
      "41\n"
     ]
    },
    {
     "name": "stdout",
     "output_type": "stream",
     "text": [
      "start training set\n46\ndone\n"
     ]
    }
   ],
   "source": [
    "HR_means_KNN_neighbors = []\n",
    "HR_std_KNN_neighbors = []\n",
    "HR_mean_training_KNN_neighbors = []\n",
    "print \"start\"\n",
    "for i in range(1, 51, 5):\n",
    "    HR_knn = KNeighborsClassifier(n_neighbors = i)\n",
    "    HR_sample = HR.sample(HR[\"JobSatisfaction\"].count() / 10)\n",
    "    HR_X, HR_Y = processData(HR, \"JobSatisfaction\")\n",
    "    HR_scores = cross_val_score(HR_knn, HR_X, HR_Y, cv = 10)\n",
    "    HR_knn.fit(HR_X, HR_Y)\n",
    "    HR_means_KNN_neighbors.append(HR_scores.mean())\n",
    "    HR_std_KNN_neighbors.append(HR_scores.std())\n",
    "    print \"start training set\"\n",
    "    HR_mean_training_KNN_neighbors.append(HR_knn.score(HR_X, HR_Y))\n",
    "    print i\n",
    "print \"done\""
   ]
  },
  {
   "cell_type": "code",
   "execution_count": 70,
   "metadata": {},
   "outputs": [
    {
     "name": "stdout",
     "output_type": "stream",
     "text": [
      "done\n"
     ]
    }
   ],
   "source": [
    "fig, ax = plt.subplots()\n",
    "fig.set_size_inches(15, 8)\n",
    "x = []\n",
    "# for i in list(range(1,51)) :\n",
    "#     x.append(i*2)\n",
    "# HR_graph = sns.pointplot(x, HR_means, ax = ax)\n",
    "# sns.pointplot(x, HR_mean_training, ax = ax, color = 'r')\n",
    "# HR_graph.set_xlabel(\"% of training data\")\n",
    "# HR_graph.set_ylabel(\"% accuracy\")\n",
    "# HR_graph.set_title(\"HR Set, Decision Tree, % of training data vs % accuracy\")\n",
    "# plt.show()\n",
    "for i in list(range(1,11)) :\n",
    "    x.append(i * 10)\n",
    "HR_graph = sns.pointplot(x, HR_means_KNN, ax = ax)\n",
    "sns.pointplot(x, HR_mean_training_KNN, ax = ax, color = 'r')\n",
    "HR_graph.set_xlabel(\"% training data\")\n",
    "HR_graph.set_ylabel(\"% accuracy\")\n",
    "HR_graph.set_title(\"HR Set, KNN, % training data vs % accuracy\")\n",
    "plt.savefig('HR Set_KNN_Training_Data_Vs_Accuracy.png', bbox_inches='tight')\n",
    "write_scores(\"HR Set_KNN_Training_Data_Vs_Accuracy.csv\", x, HR_means_KNN, x, HR_mean_training_KNN)\n",
    "write_scores(\"HR_KNN_TrainingSpeed.csv\", x, training_time, None, None)\n",
    "plt.show()\n",
    "print \"done\""
   ]
  },
  {
   "cell_type": "code",
   "execution_count": 73,
   "metadata": {},
   "outputs": [
    {
     "name": "stdout",
     "output_type": "stream",
     "text": [
      "done\n"
     ]
    }
   ],
   "source": [
    "fig, ax = plt.subplots()\n",
    "fig.set_size_inches(15, 8)\n",
    "x = []\n",
    "for i in list(range(1,11)) :\n",
    "    x.append(i * 3)\n",
    "HR_graph = sns.pointplot(x, HR_means_KNN_neighbors, ax = ax)\n",
    "sns.pointplot(x, HR_means_KNN_neighbors, ax = ax, color = 'r')\n",
    "HR_graph.set_xlabel(\"Number of neighbors\")\n",
    "HR_graph.set_ylabel(\"% accuracy\")\n",
    "HR_graph.set_title(\"HR Set, KNN, neighbors vs % accuracy\")\n",
    "plt.savefig(\"HR_KNN_Neighbors_Accuracy.png\")\n",
    "write_scores(\"HR_KNN_Neighbors_Accuracy.csv\", x, HR_means_KNN_neighbors, x, HR_mean_training_KNN_neighbors)\n",
    "plt.show()\n",
    "print \"done\""
   ]
  },
  {
   "cell_type": "markdown",
   "metadata": {},
   "source": [
    ""
   ]
  },
  {
   "cell_type": "heading",
   "metadata": {},
   "level": 1,
   "source": [
    "#Neural Network"
   ]
  },
  {
   "cell_type": "code",
   "execution_count": 75,
   "metadata": {},
   "outputs": [
    {
     "name": "stdout",
     "output_type": "stream",
     "text": [
      "start\n"
     ]
    },
    {
     "name": "stderr",
     "output_type": "stream",
     "text": [
      "C:\\Users\\Wilche\\Desktop\\Machine_Learning\\assignment1\\conda\\lib\\site-packages\\sklearn\\neural_network\\multilayer_perceptron.py:564: ConvergenceWarning: Stochastic Optimizer: Maximum iterations (200) reached and the optimization hasn't converged yet.\n  % self.max_iter, ConvergenceWarning)\n"
     ]
    },
    {
     "name": "stdout",
     "output_type": "stream",
     "text": [
      "0.743999958038\n0.00799989700317\n0.5476190476190477\n1.0\nstart\n"
     ]
    },
    {
     "name": "stdout",
     "output_type": "stream",
     "text": [
      "1.45899987221\n0.00600004196167\n0.5589569160997733\n1.0\nstart\n"
     ]
    },
    {
     "name": "stdout",
     "output_type": "stream",
     "text": [
      "2.1819999218\n0.00500011444092\n0.5612244897959183\n0.9977324263038548\nstart\n"
     ]
    },
    {
     "name": "stdout",
     "output_type": "stream",
     "text": [
      "2.88900017738\n0.00299978256226\n0.5714285714285714\n0.9982993197278912\n"
     ]
    }
   ],
   "source": [
    "HR_MLP = MLPClassifier()\n",
    "HR_means_NN = []\n",
    "HR_means_NN_training = []\n",
    "fit_time = []\n",
    "score_time = []\n",
    "for i in range(1, 5) :\n",
    "    print \"start\"\n",
    "    HR_X_train = HR_X.sample(frac=0.2 * i, random_state=1)\n",
    "    HR_X_test = HR_X.drop(HR_X_train.index)\n",
    "    HR_Y_train = HR_Y[HR_X_train.index]\n",
    "    HR_Y_test = HR_Y.drop(HR_Y_train.index)\n",
    "    start = time.time()\n",
    "    HR_MLP.fit(HR_X_train, HR_Y_train)\n",
    "    end = time.time()\n",
    "    print(end - start)\n",
    "    fit_time.append(end-start)\n",
    "    score = HR_MLP.score(HR_X_test, HR_Y_test)\n",
    "    end2 = time.time()\n",
    "    print(end2 - end)\n",
    "    score_time.append(end2-end)\n",
    "    print score\n",
    "    HR_means_NN.append(score)\n",
    "    score = HR_MLP.score(HR_X_train, HR_Y_train)\n",
    "    HR_means_NN_training.append(score)\n",
    "    print score\n",
    "# print \"start\"\n",
    "# for i in range(1, 5):\n",
    "#     HR_sample = HR.sample(HR[\"HR\"].count() / (20 * 5) * i)\n",
    "#     HR_X, HR_Y = processData(HR_sample, \"HR\")\n",
    "#     HR_scores = cross_val_score(HR_dt, HR_X, HR_Y, cv = 10)\n",
    "#     HR_dt.fit(HR_X, HR_Y)\n",
    "#     HR_means.append(HR_scores.mean())\n",
    "#     HR_std.append(HR_scores.std())\n",
    "#     HR_mean_training.append(HR_dt.score(HR_X, HR_Y))\n",
    "# print \"done\""
   ]
  },
  {
   "cell_type": "code",
   "execution_count": 79,
   "metadata": {},
   "outputs": [
    {
     "name": "stdout",
     "output_type": "stream",
     "text": [
      "done\n"
     ]
    },
    {
     "name": "stdout",
     "output_type": "stream",
     "text": [
      "done\n"
     ]
    },
    {
     "name": "stdout",
     "output_type": "stream",
     "text": [
      "done\n"
     ]
    },
    {
     "name": "stdout",
     "output_type": "stream",
     "text": [
      "done\n"
     ]
    },
    {
     "name": "stdout",
     "output_type": "stream",
     "text": [
      "done\n"
     ]
    },
    {
     "name": "stdout",
     "output_type": "stream",
     "text": [
      "done\n"
     ]
    },
    {
     "name": "stdout",
     "output_type": "stream",
     "text": [
      "done\n"
     ]
    },
    {
     "name": "stdout",
     "output_type": "stream",
     "text": [
      "done\n"
     ]
    },
    {
     "name": "stdout",
     "output_type": "stream",
     "text": [
      "done\n"
     ]
    },
    {
     "name": "stdout",
     "output_type": "stream",
     "text": [
      "done\n"
     ]
    }
   ],
   "source": [
    "HR_MLP = MLPClassifier()\n",
    "HR_means_NN_layers = []\n",
    "HR_means_NN_training_layers = []\n",
    "HR_X_train = HR_X.sample(frac=0.8, random_state=1)\n",
    "HR_X_test = HR_X.drop(HR_X_train.index)\n",
    "HR_Y_train = HR_Y[HR_X_train.index]\n",
    "HR_Y_test = HR_Y.drop(HR_Y_train.index)\n",
    "for i in range(1, 11) :\n",
    "    test_scores = []\n",
    "    train_scores = []\n",
    "    layers = [i * 20]\n",
    "    HR_MLP = MLPClassifier(learning_rate_init = float(i) / 50)\n",
    "    for j in range(1, 5):\n",
    "        start = time.time()\n",
    "        HR_MLP.fit(HR_X_train, HR_Y_train)\n",
    "        end = time.time()\n",
    "        test_score = HR_MLP.score(HR_X_test, HR_Y_test)\n",
    "        train_score = HR_MLP.score(HR_X_train, HR_Y_train)\n",
    "        test_scores.append(test_score)\n",
    "        end2 = time.time()\n",
    "        train_scores.append(train_score)\n",
    "        \n",
    "    HR_means_NN_layers.append(np.mean(test_score))\n",
    "    HR_means_NN_training_layers.append(np.mean(train_score))\n",
    "    print \"done\""
   ]
  },
  {
   "cell_type": "code",
   "execution_count": 79,
   "metadata": {},
   "outputs": [
    {
     "name": "stdout",
     "output_type": "stream",
     "text": [
      "done\n"
     ]
    }
   ],
   "source": [
    "fig, ax = plt.subplots()\n",
    "fig.set_size_inches(15, 8)\n",
    "x = []\n",
    "for i in list(range(1,5)) :\n",
    "    x.append(i * .2)\n",
    "HR_graph = sns.pointplot(x, HR_means_NN, ax = ax)\n",
    "sns.pointplot(x, HR_means_NN_training, ax = ax, color = 'r')\n",
    "HR_graph.set_xlabel(\"% training data\")\n",
    "HR_graph.set_ylabel(\"% accuracy\")\n",
    "HR_graph.set_title(\"HR Set, NN, % training data vs % accuracy\")\n",
    "write_scores(\"HR_NN_training_data_accuracy.csv\", x, HR_means_NN, x, HR_means_NN_training)\n",
    "write_scores(\"HR_NN_training_accuracy_time.csv\", x, fit_time, x, score_time)\n",
    "plt.savefig(\"HR_NN_training_accuracy_accuracy.png\")\n",
    "plt.show()\n",
    "print \"done\""
   ]
  },
  {
   "cell_type": "code",
   "execution_count": 80,
   "metadata": {},
   "outputs": [
    {
     "name": "stdout",
     "output_type": "stream",
     "text": [
      "done\n"
     ]
    }
   ],
   "source": [
    "fig, ax = plt.subplots()\n",
    "fig.set_size_inches(15, 8)\n",
    "x = []\n",
    "for i in list(range(1,11)) :\n",
    "    x.append(float(i)/20)\n",
    "HR_graph = sns.pointplot(x, HR_means_NN_layers, ax = ax)\n",
    "sns.pointplot(x, HR_means_NN_training_layers, ax = ax, color = 'r')\n",
    "HR_graph.set_xlabel(\"learning rate\")\n",
    "HR_graph.set_ylabel(\"% accuracy\")\n",
    "HR_graph.set_title(\"HR Set, NN, learning rate vs % accuracy\")\n",
    "plt.savefig(\"HR_NN_Learning_Accuracy.png\")\n",
    "write_scores(\"HR_NN_Learning_Accuracy.csv\", x, HR_means_NN_layers, x, HR_means_NN_training_layers)\n",
    "plt.show()\n",
    "print \"done\""
   ]
  },
  {
   "cell_type": "code",
   "execution_count": 8,
   "metadata": {},
   "outputs": [],
   "source": [
    "def runSVM(kernel, runs, data, feature):\n",
    "    score = []\n",
    "    score_train = []\n",
    "    data_X, data_Y = processData(data, feature)\n",
    "    data_X_train = data_X.sample(frac=0.8, random_state=1)\n",
    "    # print(data_X_train.index)\n",
    "    data_X_test = data_X.drop(data_X_train.index)\n",
    "    data_Y_train = data_Y[data_X_train.index]\n",
    "    data_Y_test = data_Y.drop(data_Y_train.index)\n",
    "    for i in range(1, runs): \n",
    "        print i\n",
    "        SVM = SVC(kernel=kernel)\n",
    "        print SVM.kernel\n",
    "        SVM.fit(data_X_train, data_Y_train)\n",
    "        score.append(SVM.score(data_X_test, data_Y_test))\n",
    "        score_train.append(SVM.score(data_X_train, data_Y_train))\n",
    "    return np.mean(score), np.mean(score_train), "
   ]
  },
  {
   "cell_type": "code",
   "execution_count": 9,
   "metadata": {},
   "outputs": [
    {
     "name": "stdout",
     "output_type": "stream",
     "text": [
      "start\n1\n2\n"
     ]
    },
    {
     "name": "stdout",
     "output_type": "stream",
     "text": [
      "3\n"
     ]
    },
    {
     "name": "stdout",
     "output_type": "stream",
     "text": [
      "4\n"
     ]
    },
    {
     "name": "stdout",
     "output_type": "stream",
     "text": [
      "5\n"
     ]
    },
    {
     "name": "stdout",
     "output_type": "stream",
     "text": [
      "6\n"
     ]
    },
    {
     "name": "stdout",
     "output_type": "stream",
     "text": [
      "7\n"
     ]
    },
    {
     "name": "stdout",
     "output_type": "stream",
     "text": [
      "8\n"
     ]
    },
    {
     "ename": "KeyboardInterrupt",
     "evalue": "",
     "traceback": [
      "\u001b[0;31m\u001b[0m",
      "\u001b[0;31mKeyboardInterrupt\u001b[0mTraceback (most recent call last)",
      "\u001b[0;32m<ipython-input-9-d77589fa4885>\u001b[0m in \u001b[0;36m<module>\u001b[0;34m()\u001b[0m\n\u001b[1;32m      8\u001b[0m     \u001b[0mHR_sample\u001b[0m \u001b[0;34m=\u001b[0m \u001b[0mHR\u001b[0m\u001b[0;34m.\u001b[0m\u001b[0msample\u001b[0m\u001b[0;34m(\u001b[0m\u001b[0mHR\u001b[0m\u001b[0;34m[\u001b[0m\u001b[0;34m\"JobSatisfaction\"\u001b[0m\u001b[0;34m]\u001b[0m\u001b[0;34m.\u001b[0m\u001b[0mcount\u001b[0m\u001b[0;34m(\u001b[0m\u001b[0;34m)\u001b[0m \u001b[0;34m/\u001b[0m \u001b[0;36m10\u001b[0m \u001b[0;34m*\u001b[0m \u001b[0mi\u001b[0m\u001b[0;34m)\u001b[0m\u001b[0;34m\u001b[0m\u001b[0m\n\u001b[1;32m      9\u001b[0m     \u001b[0mHR_X\u001b[0m\u001b[0;34m,\u001b[0m \u001b[0mHR_Y\u001b[0m \u001b[0;34m=\u001b[0m \u001b[0mprocessData\u001b[0m\u001b[0;34m(\u001b[0m\u001b[0mHR_sample\u001b[0m\u001b[0;34m,\u001b[0m \u001b[0;34m\"JobSatisfaction\"\u001b[0m\u001b[0;34m)\u001b[0m\u001b[0;34m\u001b[0m\u001b[0m\n\u001b[0;32m---> 10\u001b[0;31m     \u001b[0mHR_scores\u001b[0m \u001b[0;34m=\u001b[0m \u001b[0mcross_val_score\u001b[0m\u001b[0;34m(\u001b[0m\u001b[0mHR_SVM\u001b[0m\u001b[0;34m,\u001b[0m \u001b[0mHR_X\u001b[0m\u001b[0;34m,\u001b[0m \u001b[0mHR_Y\u001b[0m\u001b[0;34m,\u001b[0m \u001b[0mcv\u001b[0m \u001b[0;34m=\u001b[0m \u001b[0;36m10\u001b[0m\u001b[0;34m)\u001b[0m\u001b[0;34m\u001b[0m\u001b[0m\n\u001b[0m\u001b[1;32m     11\u001b[0m     \u001b[0mstart\u001b[0m \u001b[0;34m=\u001b[0m \u001b[0mtime\u001b[0m\u001b[0;34m.\u001b[0m\u001b[0mtime\u001b[0m\u001b[0;34m(\u001b[0m\u001b[0;34m)\u001b[0m\u001b[0;34m\u001b[0m\u001b[0m\n\u001b[1;32m     12\u001b[0m     \u001b[0mHR_SVM\u001b[0m\u001b[0;34m.\u001b[0m\u001b[0mfit\u001b[0m\u001b[0;34m(\u001b[0m\u001b[0mHR_X\u001b[0m\u001b[0;34m,\u001b[0m \u001b[0mHR_Y\u001b[0m\u001b[0;34m)\u001b[0m\u001b[0;34m\u001b[0m\u001b[0m\n",
      "\u001b[0;32mC:\\Users\\Wilche\\Desktop\\Machine_Learning\\assignment1\\conda\\lib\\site-packages\\sklearn\\model_selection\\_validation.pyc\u001b[0m in \u001b[0;36mcross_val_score\u001b[0;34m(estimator, X, y, groups, scoring, cv, n_jobs, verbose, fit_params, pre_dispatch)\u001b[0m\n\u001b[1;32m    340\u001b[0m                                 \u001b[0mn_jobs\u001b[0m\u001b[0;34m=\u001b[0m\u001b[0mn_jobs\u001b[0m\u001b[0;34m,\u001b[0m \u001b[0mverbose\u001b[0m\u001b[0;34m=\u001b[0m\u001b[0mverbose\u001b[0m\u001b[0;34m,\u001b[0m\u001b[0;34m\u001b[0m\u001b[0m\n\u001b[1;32m    341\u001b[0m                                 \u001b[0mfit_params\u001b[0m\u001b[0;34m=\u001b[0m\u001b[0mfit_params\u001b[0m\u001b[0;34m,\u001b[0m\u001b[0;34m\u001b[0m\u001b[0m\n\u001b[0;32m--> 342\u001b[0;31m                                 pre_dispatch=pre_dispatch)\n\u001b[0m\u001b[1;32m    343\u001b[0m     \u001b[0;32mreturn\u001b[0m \u001b[0mcv_results\u001b[0m\u001b[0;34m[\u001b[0m\u001b[0;34m'test_score'\u001b[0m\u001b[0;34m]\u001b[0m\u001b[0;34m\u001b[0m\u001b[0m\n\u001b[1;32m    344\u001b[0m \u001b[0;34m\u001b[0m\u001b[0m\n",
      "\u001b[0;32mC:\\Users\\Wilche\\Desktop\\Machine_Learning\\assignment1\\conda\\lib\\site-packages\\sklearn\\model_selection\\_validation.pyc\u001b[0m in \u001b[0;36mcross_validate\u001b[0;34m(estimator, X, y, groups, scoring, cv, n_jobs, verbose, fit_params, pre_dispatch, return_train_score)\u001b[0m\n\u001b[1;32m    204\u001b[0m             \u001b[0mfit_params\u001b[0m\u001b[0;34m,\u001b[0m \u001b[0mreturn_train_score\u001b[0m\u001b[0;34m=\u001b[0m\u001b[0mreturn_train_score\u001b[0m\u001b[0;34m,\u001b[0m\u001b[0;34m\u001b[0m\u001b[0m\n\u001b[1;32m    205\u001b[0m             return_times=True)\n\u001b[0;32m--> 206\u001b[0;31m         for train, test in cv.split(X, y, groups))\n\u001b[0m\u001b[1;32m    207\u001b[0m \u001b[0;34m\u001b[0m\u001b[0m\n\u001b[1;32m    208\u001b[0m     \u001b[0;32mif\u001b[0m \u001b[0mreturn_train_score\u001b[0m\u001b[0;34m:\u001b[0m\u001b[0;34m\u001b[0m\u001b[0m\n",
      "\u001b[0;32mC:\\Users\\Wilche\\Desktop\\Machine_Learning\\assignment1\\conda\\lib\\site-packages\\sklearn\\externals\\joblib\\parallel.pyc\u001b[0m in \u001b[0;36m__call__\u001b[0;34m(self, iterable)\u001b[0m\n\u001b[1;32m    777\u001b[0m             \u001b[0;31m# was dispatched. In particular this covers the edge\u001b[0m\u001b[0;34m\u001b[0m\u001b[0;34m\u001b[0m\u001b[0m\n\u001b[1;32m    778\u001b[0m             \u001b[0;31m# case of Parallel used with an exhausted iterator.\u001b[0m\u001b[0;34m\u001b[0m\u001b[0;34m\u001b[0m\u001b[0m\n\u001b[0;32m--> 779\u001b[0;31m             \u001b[0;32mwhile\u001b[0m \u001b[0mself\u001b[0m\u001b[0;34m.\u001b[0m\u001b[0mdispatch_one_batch\u001b[0m\u001b[0;34m(\u001b[0m\u001b[0miterator\u001b[0m\u001b[0;34m)\u001b[0m\u001b[0;34m:\u001b[0m\u001b[0;34m\u001b[0m\u001b[0m\n\u001b[0m\u001b[1;32m    780\u001b[0m                 \u001b[0mself\u001b[0m\u001b[0;34m.\u001b[0m\u001b[0m_iterating\u001b[0m \u001b[0;34m=\u001b[0m \u001b[0mTrue\u001b[0m\u001b[0;34m\u001b[0m\u001b[0m\n\u001b[1;32m    781\u001b[0m             \u001b[0;32melse\u001b[0m\u001b[0;34m:\u001b[0m\u001b[0;34m\u001b[0m\u001b[0m\n",
      "\u001b[0;32mC:\\Users\\Wilche\\Desktop\\Machine_Learning\\assignment1\\conda\\lib\\site-packages\\sklearn\\externals\\joblib\\parallel.pyc\u001b[0m in \u001b[0;36mdispatch_one_batch\u001b[0;34m(self, iterator)\u001b[0m\n\u001b[1;32m    623\u001b[0m                 \u001b[0;32mreturn\u001b[0m \u001b[0mFalse\u001b[0m\u001b[0;34m\u001b[0m\u001b[0m\n\u001b[1;32m    624\u001b[0m             \u001b[0;32melse\u001b[0m\u001b[0;34m:\u001b[0m\u001b[0;34m\u001b[0m\u001b[0m\n\u001b[0;32m--> 625\u001b[0;31m                 \u001b[0mself\u001b[0m\u001b[0;34m.\u001b[0m\u001b[0m_dispatch\u001b[0m\u001b[0;34m(\u001b[0m\u001b[0mtasks\u001b[0m\u001b[0;34m)\u001b[0m\u001b[0;34m\u001b[0m\u001b[0m\n\u001b[0m\u001b[1;32m    626\u001b[0m                 \u001b[0;32mreturn\u001b[0m \u001b[0mTrue\u001b[0m\u001b[0;34m\u001b[0m\u001b[0m\n\u001b[1;32m    627\u001b[0m \u001b[0;34m\u001b[0m\u001b[0m\n",
      "\u001b[0;32mC:\\Users\\Wilche\\Desktop\\Machine_Learning\\assignment1\\conda\\lib\\site-packages\\sklearn\\externals\\joblib\\parallel.pyc\u001b[0m in \u001b[0;36m_dispatch\u001b[0;34m(self, batch)\u001b[0m\n\u001b[1;32m    586\u001b[0m         \u001b[0mdispatch_timestamp\u001b[0m \u001b[0;34m=\u001b[0m \u001b[0mtime\u001b[0m\u001b[0;34m.\u001b[0m\u001b[0mtime\u001b[0m\u001b[0;34m(\u001b[0m\u001b[0;34m)\u001b[0m\u001b[0;34m\u001b[0m\u001b[0m\n\u001b[1;32m    587\u001b[0m         \u001b[0mcb\u001b[0m \u001b[0;34m=\u001b[0m \u001b[0mBatchCompletionCallBack\u001b[0m\u001b[0;34m(\u001b[0m\u001b[0mdispatch_timestamp\u001b[0m\u001b[0;34m,\u001b[0m \u001b[0mlen\u001b[0m\u001b[0;34m(\u001b[0m\u001b[0mbatch\u001b[0m\u001b[0;34m)\u001b[0m\u001b[0;34m,\u001b[0m \u001b[0mself\u001b[0m\u001b[0;34m)\u001b[0m\u001b[0;34m\u001b[0m\u001b[0m\n\u001b[0;32m--> 588\u001b[0;31m         \u001b[0mjob\u001b[0m \u001b[0;34m=\u001b[0m \u001b[0mself\u001b[0m\u001b[0;34m.\u001b[0m\u001b[0m_backend\u001b[0m\u001b[0;34m.\u001b[0m\u001b[0mapply_async\u001b[0m\u001b[0;34m(\u001b[0m\u001b[0mbatch\u001b[0m\u001b[0;34m,\u001b[0m \u001b[0mcallback\u001b[0m\u001b[0;34m=\u001b[0m\u001b[0mcb\u001b[0m\u001b[0;34m)\u001b[0m\u001b[0;34m\u001b[0m\u001b[0m\n\u001b[0m\u001b[1;32m    589\u001b[0m         \u001b[0mself\u001b[0m\u001b[0;34m.\u001b[0m\u001b[0m_jobs\u001b[0m\u001b[0;34m.\u001b[0m\u001b[0mappend\u001b[0m\u001b[0;34m(\u001b[0m\u001b[0mjob\u001b[0m\u001b[0;34m)\u001b[0m\u001b[0;34m\u001b[0m\u001b[0m\n\u001b[1;32m    590\u001b[0m \u001b[0;34m\u001b[0m\u001b[0m\n",
      "\u001b[0;32mC:\\Users\\Wilche\\Desktop\\Machine_Learning\\assignment1\\conda\\lib\\site-packages\\sklearn\\externals\\joblib\\_parallel_backends.pyc\u001b[0m in \u001b[0;36mapply_async\u001b[0;34m(self, func, callback)\u001b[0m\n\u001b[1;32m    109\u001b[0m     \u001b[0;32mdef\u001b[0m \u001b[0mapply_async\u001b[0m\u001b[0;34m(\u001b[0m\u001b[0mself\u001b[0m\u001b[0;34m,\u001b[0m \u001b[0mfunc\u001b[0m\u001b[0;34m,\u001b[0m \u001b[0mcallback\u001b[0m\u001b[0;34m=\u001b[0m\u001b[0mNone\u001b[0m\u001b[0;34m)\u001b[0m\u001b[0;34m:\u001b[0m\u001b[0;34m\u001b[0m\u001b[0m\n\u001b[1;32m    110\u001b[0m         \u001b[0;34m\"\"\"Schedule a func to be run\"\"\"\u001b[0m\u001b[0;34m\u001b[0m\u001b[0m\n\u001b[0;32m--> 111\u001b[0;31m         \u001b[0mresult\u001b[0m \u001b[0;34m=\u001b[0m \u001b[0mImmediateResult\u001b[0m\u001b[0;34m(\u001b[0m\u001b[0mfunc\u001b[0m\u001b[0;34m)\u001b[0m\u001b[0;34m\u001b[0m\u001b[0m\n\u001b[0m\u001b[1;32m    112\u001b[0m         \u001b[0;32mif\u001b[0m \u001b[0mcallback\u001b[0m\u001b[0;34m:\u001b[0m\u001b[0;34m\u001b[0m\u001b[0m\n\u001b[1;32m    113\u001b[0m             \u001b[0mcallback\u001b[0m\u001b[0;34m(\u001b[0m\u001b[0mresult\u001b[0m\u001b[0;34m)\u001b[0m\u001b[0;34m\u001b[0m\u001b[0m\n",
      "\u001b[0;32mC:\\Users\\Wilche\\Desktop\\Machine_Learning\\assignment1\\conda\\lib\\site-packages\\sklearn\\externals\\joblib\\_parallel_backends.pyc\u001b[0m in \u001b[0;36m__init__\u001b[0;34m(self, batch)\u001b[0m\n\u001b[1;32m    330\u001b[0m         \u001b[0;31m# Don't delay the application, to avoid keeping the input\u001b[0m\u001b[0;34m\u001b[0m\u001b[0;34m\u001b[0m\u001b[0m\n\u001b[1;32m    331\u001b[0m         \u001b[0;31m# arguments in memory\u001b[0m\u001b[0;34m\u001b[0m\u001b[0;34m\u001b[0m\u001b[0m\n\u001b[0;32m--> 332\u001b[0;31m         \u001b[0mself\u001b[0m\u001b[0;34m.\u001b[0m\u001b[0mresults\u001b[0m \u001b[0;34m=\u001b[0m \u001b[0mbatch\u001b[0m\u001b[0;34m(\u001b[0m\u001b[0;34m)\u001b[0m\u001b[0;34m\u001b[0m\u001b[0m\n\u001b[0m\u001b[1;32m    333\u001b[0m \u001b[0;34m\u001b[0m\u001b[0m\n\u001b[1;32m    334\u001b[0m     \u001b[0;32mdef\u001b[0m \u001b[0mget\u001b[0m\u001b[0;34m(\u001b[0m\u001b[0mself\u001b[0m\u001b[0;34m)\u001b[0m\u001b[0;34m:\u001b[0m\u001b[0;34m\u001b[0m\u001b[0m\n",
      "\u001b[0;32mC:\\Users\\Wilche\\Desktop\\Machine_Learning\\assignment1\\conda\\lib\\site-packages\\sklearn\\externals\\joblib\\parallel.pyc\u001b[0m in \u001b[0;36m__call__\u001b[0;34m(self)\u001b[0m\n\u001b[1;32m    129\u001b[0m \u001b[0;34m\u001b[0m\u001b[0m\n\u001b[1;32m    130\u001b[0m     \u001b[0;32mdef\u001b[0m \u001b[0m__call__\u001b[0m\u001b[0;34m(\u001b[0m\u001b[0mself\u001b[0m\u001b[0;34m)\u001b[0m\u001b[0;34m:\u001b[0m\u001b[0;34m\u001b[0m\u001b[0m\n\u001b[0;32m--> 131\u001b[0;31m         \u001b[0;32mreturn\u001b[0m \u001b[0;34m[\u001b[0m\u001b[0mfunc\u001b[0m\u001b[0;34m(\u001b[0m\u001b[0;34m*\u001b[0m\u001b[0margs\u001b[0m\u001b[0;34m,\u001b[0m \u001b[0;34m**\u001b[0m\u001b[0mkwargs\u001b[0m\u001b[0;34m)\u001b[0m \u001b[0;32mfor\u001b[0m \u001b[0mfunc\u001b[0m\u001b[0;34m,\u001b[0m \u001b[0margs\u001b[0m\u001b[0;34m,\u001b[0m \u001b[0mkwargs\u001b[0m \u001b[0;32min\u001b[0m \u001b[0mself\u001b[0m\u001b[0;34m.\u001b[0m\u001b[0mitems\u001b[0m\u001b[0;34m]\u001b[0m\u001b[0;34m\u001b[0m\u001b[0m\n\u001b[0m\u001b[1;32m    132\u001b[0m \u001b[0;34m\u001b[0m\u001b[0m\n\u001b[1;32m    133\u001b[0m     \u001b[0;32mdef\u001b[0m \u001b[0m__len__\u001b[0m\u001b[0;34m(\u001b[0m\u001b[0mself\u001b[0m\u001b[0;34m)\u001b[0m\u001b[0;34m:\u001b[0m\u001b[0;34m\u001b[0m\u001b[0m\n",
      "\u001b[0;32mC:\\Users\\Wilche\\Desktop\\Machine_Learning\\assignment1\\conda\\lib\\site-packages\\sklearn\\model_selection\\_validation.pyc\u001b[0m in \u001b[0;36m_fit_and_score\u001b[0;34m(estimator, X, y, scorer, train, test, verbose, parameters, fit_params, return_train_score, return_parameters, return_n_test_samples, return_times, error_score)\u001b[0m\n\u001b[1;32m    456\u001b[0m             \u001b[0mestimator\u001b[0m\u001b[0;34m.\u001b[0m\u001b[0mfit\u001b[0m\u001b[0;34m(\u001b[0m\u001b[0mX_train\u001b[0m\u001b[0;34m,\u001b[0m \u001b[0;34m**\u001b[0m\u001b[0mfit_params\u001b[0m\u001b[0;34m)\u001b[0m\u001b[0;34m\u001b[0m\u001b[0m\n\u001b[1;32m    457\u001b[0m         \u001b[0;32melse\u001b[0m\u001b[0;34m:\u001b[0m\u001b[0;34m\u001b[0m\u001b[0m\n\u001b[0;32m--> 458\u001b[0;31m             \u001b[0mestimator\u001b[0m\u001b[0;34m.\u001b[0m\u001b[0mfit\u001b[0m\u001b[0;34m(\u001b[0m\u001b[0mX_train\u001b[0m\u001b[0;34m,\u001b[0m \u001b[0my_train\u001b[0m\u001b[0;34m,\u001b[0m \u001b[0;34m**\u001b[0m\u001b[0mfit_params\u001b[0m\u001b[0;34m)\u001b[0m\u001b[0;34m\u001b[0m\u001b[0m\n\u001b[0m\u001b[1;32m    459\u001b[0m \u001b[0;34m\u001b[0m\u001b[0m\n\u001b[1;32m    460\u001b[0m     \u001b[0;32mexcept\u001b[0m \u001b[0mException\u001b[0m \u001b[0;32mas\u001b[0m \u001b[0me\u001b[0m\u001b[0;34m:\u001b[0m\u001b[0;34m\u001b[0m\u001b[0m\n",
      "\u001b[0;32mC:\\Users\\Wilche\\Desktop\\Machine_Learning\\assignment1\\conda\\lib\\site-packages\\sklearn\\svm\\base.pyc\u001b[0m in \u001b[0;36mfit\u001b[0;34m(self, X, y, sample_weight)\u001b[0m\n\u001b[1;32m    185\u001b[0m \u001b[0;34m\u001b[0m\u001b[0m\n\u001b[1;32m    186\u001b[0m         \u001b[0mseed\u001b[0m \u001b[0;34m=\u001b[0m \u001b[0mrnd\u001b[0m\u001b[0;34m.\u001b[0m\u001b[0mrandint\u001b[0m\u001b[0;34m(\u001b[0m\u001b[0mnp\u001b[0m\u001b[0;34m.\u001b[0m\u001b[0miinfo\u001b[0m\u001b[0;34m(\u001b[0m\u001b[0;34m'i'\u001b[0m\u001b[0;34m)\u001b[0m\u001b[0;34m.\u001b[0m\u001b[0mmax\u001b[0m\u001b[0;34m)\u001b[0m\u001b[0;34m\u001b[0m\u001b[0m\n\u001b[0;32m--> 187\u001b[0;31m         \u001b[0mfit\u001b[0m\u001b[0;34m(\u001b[0m\u001b[0mX\u001b[0m\u001b[0;34m,\u001b[0m \u001b[0my\u001b[0m\u001b[0;34m,\u001b[0m \u001b[0msample_weight\u001b[0m\u001b[0;34m,\u001b[0m \u001b[0msolver_type\u001b[0m\u001b[0;34m,\u001b[0m \u001b[0mkernel\u001b[0m\u001b[0;34m,\u001b[0m \u001b[0mrandom_seed\u001b[0m\u001b[0;34m=\u001b[0m\u001b[0mseed\u001b[0m\u001b[0;34m)\u001b[0m\u001b[0;34m\u001b[0m\u001b[0m\n\u001b[0m\u001b[1;32m    188\u001b[0m         \u001b[0;31m# see comment on the other call to np.iinfo in this file\u001b[0m\u001b[0;34m\u001b[0m\u001b[0;34m\u001b[0m\u001b[0m\n\u001b[1;32m    189\u001b[0m \u001b[0;34m\u001b[0m\u001b[0m\n",
      "\u001b[0;32mC:\\Users\\Wilche\\Desktop\\Machine_Learning\\assignment1\\conda\\lib\\site-packages\\sklearn\\svm\\base.pyc\u001b[0m in \u001b[0;36m_dense_fit\u001b[0;34m(self, X, y, sample_weight, solver_type, kernel, random_seed)\u001b[0m\n\u001b[1;32m    252\u001b[0m                 \u001b[0mcache_size\u001b[0m\u001b[0;34m=\u001b[0m\u001b[0mself\u001b[0m\u001b[0;34m.\u001b[0m\u001b[0mcache_size\u001b[0m\u001b[0;34m,\u001b[0m \u001b[0mcoef0\u001b[0m\u001b[0;34m=\u001b[0m\u001b[0mself\u001b[0m\u001b[0;34m.\u001b[0m\u001b[0mcoef0\u001b[0m\u001b[0;34m,\u001b[0m\u001b[0;34m\u001b[0m\u001b[0m\n\u001b[1;32m    253\u001b[0m                 \u001b[0mgamma\u001b[0m\u001b[0;34m=\u001b[0m\u001b[0mself\u001b[0m\u001b[0;34m.\u001b[0m\u001b[0m_gamma\u001b[0m\u001b[0;34m,\u001b[0m \u001b[0mepsilon\u001b[0m\u001b[0;34m=\u001b[0m\u001b[0mself\u001b[0m\u001b[0;34m.\u001b[0m\u001b[0mepsilon\u001b[0m\u001b[0;34m,\u001b[0m\u001b[0;34m\u001b[0m\u001b[0m\n\u001b[0;32m--> 254\u001b[0;31m                 max_iter=self.max_iter, random_seed=random_seed)\n\u001b[0m\u001b[1;32m    255\u001b[0m \u001b[0;34m\u001b[0m\u001b[0m\n\u001b[1;32m    256\u001b[0m         \u001b[0mself\u001b[0m\u001b[0;34m.\u001b[0m\u001b[0m_warn_from_fit_status\u001b[0m\u001b[0;34m(\u001b[0m\u001b[0;34m)\u001b[0m\u001b[0;34m\u001b[0m\u001b[0m\n",
      "\u001b[0;32msklearn\\svm\\libsvm.pyx\u001b[0m in \u001b[0;36msklearn.svm.libsvm.fit\u001b[0;34m()\u001b[0m\n",
      "\u001b[0;31mKeyboardInterrupt\u001b[0m: "
     ],
     "output_type": "error"
    }
   ],
   "source": [
    "HR_SVM = SVC()\n",
    "HR_means_SVM = []\n",
    "HR_std_SVM = []\n",
    "HR_mean_SVM_training = []\n",
    "time_run = []\n",
    "print \"start\"\n",
    "for i in range(1, 11):\n",
    "    HR_sample = HR.sample(HR[\"JobSatisfaction\"].count() / 10 * i)\n",
    "    HR_X, HR_Y = processData(HR_sample, \"JobSatisfaction\")\n",
    "    HR_scores = cross_val_score(HR_SVM, HR_X, HR_Y, cv = 10)\n",
    "    start = time.time()\n",
    "    HR_SVM.fit(HR_X, HR_Y)\n",
    "    end = time.time()\n",
    "    time_run.append(end - start)\n",
    "    HR_means_SVM.append(HR_scores.mean())\n",
    "    HR_std_SVM.append(HR_scores.std())\n",
    "    HR_mean_SVM_training.append(HR_SVM.score(HR_X, HR_Y))\n",
    "    print i\n",
    "print \"done\""
   ]
  },
  {
   "cell_type": "code",
   "execution_count": 12,
   "metadata": {},
   "outputs": [
    {
     "name": "stdout",
     "output_type": "stream",
     "text": [
      "1\nlinear\n2\nlinear\n"
     ]
    },
    {
     "name": "stdout",
     "output_type": "stream",
     "text": [
      "3\nlinear\n"
     ]
    },
    {
     "name": "stdout",
     "output_type": "stream",
     "text": [
      "4\nlinear\n"
     ]
    },
    {
     "name": "stdout",
     "output_type": "stream",
     "text": [
      "1\npoly\n2\npoly\n"
     ]
    },
    {
     "name": "stdout",
     "output_type": "stream",
     "text": [
      "3\npoly\n4\npoly\n"
     ]
    },
    {
     "name": "stdout",
     "output_type": "stream",
     "text": [
      "1\nrbf\n"
     ]
    },
    {
     "name": "stdout",
     "output_type": "stream",
     "text": [
      "2\nrbf\n"
     ]
    },
    {
     "name": "stdout",
     "output_type": "stream",
     "text": [
      "3\nrbf\n"
     ]
    },
    {
     "name": "stdout",
     "output_type": "stream",
     "text": [
      "4\nrbf\n"
     ]
    },
    {
     "name": "stdout",
     "output_type": "stream",
     "text": [
      "1\nsigmoid\n2\nsigmoid\n"
     ]
    },
    {
     "name": "stdout",
     "output_type": "stream",
     "text": [
      "3\nsigmoid\n4\nsigmoid\n"
     ]
    }
   ],
   "source": [
    "linear_score, linear_score_train = runSVM('linear', 5, HR, \"JobSatisfaction\")\n",
    "poly_score, poly_score_train = runSVM('poly', 5, HR, \"JobSatisfaction\")\n",
    "rbf_score, rbf_score_train = runSVM('rbf', 5, HR, \"JobSatisfaction\")\n",
    "sigmoid_score, sigmoid_score_train = runSVM('sigmoid', 5, HR, \"JobSatisfaction\")\n"
   ]
  },
  {
   "cell_type": "code",
   "execution_count": 13,
   "metadata": {},
   "outputs": [
    {
     "data": {
      "text/html": [
       "<div>\n",
       "<style scoped>\n",
       "    .dataframe tbody tr th:only-of-type {\n",
       "        vertical-align: middle;\n",
       "    }\n",
       "\n",
       "    .dataframe tbody tr th {\n",
       "        vertical-align: top;\n",
       "    }\n",
       "\n",
       "    .dataframe thead th {\n",
       "        text-align: right;\n",
       "    }\n",
       "</style>\n",
       "<table border=\"1\" class=\"dataframe\">\n",
       "  <thead>\n",
       "    <tr style=\"text-align: right;\">\n",
       "      <th></th>\n",
       "      <th>linear</th>\n",
       "      <th>poly</th>\n",
       "      <th>rbf</th>\n",
       "      <th>sigmoid</th>\n",
       "    </tr>\n",
       "  </thead>\n",
       "  <tbody>\n",
       "    <tr>\n",
       "      <th>0</th>\n",
       "      <td>0.568027</td>\n",
       "      <td>0.557823</td>\n",
       "      <td>0.561224</td>\n",
       "      <td>0.571429</td>\n",
       "    </tr>\n",
       "    <tr>\n",
       "      <th>1</th>\n",
       "      <td>0.624150</td>\n",
       "      <td>0.783163</td>\n",
       "      <td>0.725340</td>\n",
       "      <td>0.607143</td>\n",
       "    </tr>\n",
       "  </tbody>\n",
       "</table>\n",
       "</div>"
      ],
      "text/plain": [
       "<div>\n",
       "<style scoped>\n",
       "    .dataframe tbody tr th:only-of-type {\n",
       "        vertical-align: middle;\n",
       "    }\n",
       "\n",
       "    .dataframe tbody tr th {\n",
       "        vertical-align: top;\n",
       "    }\n",
       "\n",
       "    .dataframe thead th {\n",
       "        text-align: right;\n",
       "    }\n",
       "</style>\n",
       "<table border=\"1\" class=\"dataframe\">\n",
       "  <thead>\n",
       "    <tr style=\"text-align: right;\">\n",
       "      <th></th>\n",
       "      <th>linear</th>\n",
       "      <th>poly</th>\n",
       "      <th>rbf</th>\n",
       "      <th>sigmoid</th>\n",
       "    </tr>\n",
       "  </thead>\n",
       "  <tbody>\n",
       "    <tr>\n",
       "      <th>0</th>\n",
       "      <td>0.568027</td>\n",
       "      <td>0.557823</td>\n",
       "      <td>0.561224</td>\n",
       "      <td>0.571429</td>\n",
       "    </tr>\n",
       "    <tr>\n",
       "      <th>1</th>\n",
       "      <td>0.624150</td>\n",
       "      <td>0.783163</td>\n",
       "      <td>0.725340</td>\n",
       "      <td>0.607143</td>\n",
       "    </tr>\n",
       "  </tbody>\n",
       "</table>\n",
       "</div>"
      ]
     },
     "execution_count": 0,
     "metadata": {},
     "output_type": "execute_result"
    }
   ],
   "source": [
    "SVM_df = pd.DataFrame({'linear': [linear_score, linear_score_train], 'poly': [poly_score, poly_score_train], 'rbf': [rbf_score, rbf_score_train], 'sigmoid': [sigmoid_score, sigmoid_score_train]})\n",
    "display(SVM_df)\n",
    "file = open(\"HR_SVM_kernel.csv\", \"w\")\n",
    "file.write(\"linear_score, linear_train, poly_score, poly_train, rbf_score, rbf_train, sigmoid_score, sigmoid_train\\n\")\n",
    "file.write(str(linear_score) + \", \" + str(linear_score_train) + \", \" + str(poly_score) + \", \" \n",
    "           + str(poly_score_train) + \", \" + str(rbf_score) + \", \" + str(rbf_score_train) + ',' + str(sigmoid_score) + \",\" + str(sigmoid_score_train))\n",
    "file.close()"
   ]
  },
  {
   "cell_type": "code",
   "execution_count": 89,
   "metadata": {},
   "outputs": [
    {
     "name": "stdout",
     "output_type": "stream",
     "text": [
      "['0.10', '0.20', '0.30', '0.40', '0.50', '0.60', '0.70', '0.80', '0.90', '1.00']\n[0.6191575091575092, 0.6096223316912972, 0.5987820061075875, 0.6326797194623028, 0.5932279402690362, 0.5976340800488418, 0.59186490503595, 0.5926626104592205, 0.6054533018876128, 0.6006579825562213]\n"
     ]
    },
    {
     "name": "stdout",
     "output_type": "stream",
     "text": [
      "done\n"
     ]
    }
   ],
   "source": [
    "fig, ax = plt.subplots()\n",
    "fig.set_size_inches(15, 8)\n",
    "x = []\n",
    "for i in list(range(1,11)) :\n",
    "    x.append(format(i * .1, '.2f'))\n",
    "print x\n",
    "print HR_means_SVM\n",
    "HR_graph = sns.pointplot(x, HR_means_SVM, ax = ax)\n",
    "sns.pointplot(x, HR_mean_SVM_training, ax = ax, color = 'r')\n",
    "HR_graph.set_xlabel(\"% training data\")\n",
    "HR_graph.set_ylabel(\"% accuracy\")\n",
    "HR_graph.set_title(\"HR Set, SVM, % training data vs % accuracy\")\n",
    "plt.savefig(\"HR_SVM_training_accuracy.png\")\n",
    "write_scores(\"HR_SVM_training_accuracy.csv\", x, HR_means_SVM, x, HR_mean_SVM_training)\n",
    "write_scores(\"HR_SVM_time.csv\", x, time_run, None, None)\n",
    "plt.show()\n",
    "print \"done\""
   ]
  },
  {
   "cell_type": "code",
   "execution_count": null,
   "metadata": {},
   "outputs": [],
   "source": []
  }
 ],
 "metadata": {
  "kernelspec": {
   "display_name": "Python 2",
   "language": "python",
   "name": "python2"
  },
  "language_info": {
   "codemirror_mode": {
    "name": "ipython",
    "version": 2
   },
   "file_extension": ".py",
   "mimetype": "text/x-python",
   "name": "python",
   "nbconvert_exporter": "python",
   "pygments_lexer": "ipython2",
   "version": "2.7.6"
  }
 },
 "nbformat": 4,
 "nbformat_minor": 0
}
