{
 "cells": [
  {
   "cell_type": "markdown",
   "metadata": {
    "collapsed": true
   },
   "source": [
    "##Mushroom Classification\n"
   ]
  },
  {
   "cell_type": "code",
   "execution_count": 34,
   "metadata": {},
   "outputs": [],
   "source": [
    "import pandas as pd\n",
    "import seaborn as sns\n",
    "import matplotlib.pyplot as plt\n",
    "import numpy as np\n",
    "import os\n",
    "from sklearn.neighbors import KNeighborsClassifier\n",
    "from sklearn.neural_network import MLPClassifier\n",
    "from sklearn.tree import DecisionTreeClassifier\n",
    "from sklearn.model_selection import cross_val_score\n",
    "from sklearn import preprocessing\n",
    "from IPython.display import display, HTML"
   ]
  },
  {
   "cell_type": "markdown",
   "metadata": {},
   "source": [
    "### Extracting the data"
   ]
  },
  {
   "cell_type": "code",
   "execution_count": 4,
   "metadata": {
    "collapsed": true
   },
   "outputs": [],
   "source": [
    "\n",
    "train = pd.read_csv(\"./mushroomsTrain.csv\")\n",
    "Y_train = train[\"class\"]\n",
    "X_train = train.drop(\"class\", axis=1)\n",
    "\n",
    "Y_train = pd.get_dummies(Y_train)\n",
    "X_train = pd.get_dummies(X_train)\n",
    "\n",
    "test = pd.read_csv(\"./mushroomsTest.csv\")\n",
    "Y_test = train[\"class\"]\n",
    "X_test = train.drop(\"class\", axis=1)\n",
    "\n",
    "Y_test = pd.get_dummies(Y_test)\n",
    "X_test = pd.get_dummies(X_test)\n",
    "\n",
    "cross = pd.read_csv(\"./mushrooms.csv\")\n",
    "Y_cross = cross[\"class\"]\n",
    "X_cross = cross.drop(\"class\", axis=1)\n",
    "Y_cross = pd.get_dummies(Y_cross)\n",
    "Y_cross = Y_cross.drop(\"p\", axis=1)\n",
    "#print(np.array(Y_cross).reshape(-1))\n",
    "X_cross = pd.get_dummies(X_cross)\n",
    "\n"
   ]
  },
  {
   "cell_type": "code",
   "execution_count": 6,
   "metadata": {},
   "outputs": [],
   "source": [
    "HR_cross = pd.read_csv(\"./HR_comma_sep.csv\")\n",
    "\n",
    "\n",
    "\n",
    "\n",
    "# print(Y_HR_cross)\n",
    "# print(X_HR_scaled)"
   ]
  },
  {
   "cell_type": "code",
   "execution_count": 118,
   "metadata": {
    "collapsed": true
   },
   "outputs": [
    {
     "name": "stdout",
     "output_type": "stream",
     "text": [
      "14950\n"
     ]
    }
   ],
   "source": [
    "dt = DecisionTreeClassifier(max_leaf_nodes=7)\n",
    "means_HR = []\n",
    "stds_HR = []\n",
    "means_training_HR = []\n",
    "print X_HR_cross[\"satisfaction_level\"].count()\n",
    "HR_cross = pd.read_csv(\"./HR_comma_sep.csv\")\n",
    "for i in range(50):\n",
    "    HR_cross_sampled = HR_cross.sample(HR_cross[\"satisfaction_level\"].count()/50 * (i + 1))\n",
    "    Y_HR_cross = HR_cross_sampled[\"left\"]\n",
    "    X_HR_cross = HR_cross_sampled.drop(\"left\", axis=1)\n",
    "    X_HR_cross = pd.get_dummies(X_HR_cross)\n",
    "    X_HR_scaled = preprocessing.scale(X_HR_cross)\n",
    "    scores = cross_val_score(dt, X_HR_scaled, Y_HR_cross, cv = 10)\n",
    "    dt.fit(X_HR_scaled, Y_HR_cross)\n",
    "    means_training_HR.append(dt.score(X_HR_scaled, Y_HR_cross))\n",
    "    means_HR.append(scores.mean())\n",
    "    stds_HR.append(scores.std())"
   ]
  },
  {
   "cell_type": "code",
   "execution_count": 116,
   "metadata": {
    "collapsed": true
   },
   "outputs": [
    {
     "name": "stdout",
     "output_type": "stream",
     "text": [
      "[0.9331516499814609, 0.8829332221913495, 0.8718352059925094, 0.8879943051600806, 0.9003113619864586, 0.911380048682164, 0.913029979083858, 0.8942464077681282, 0.912300702189178, 0.8933192969854774, 0.8923612112675423, 0.8982754271209945, 0.8911710894428939, 0.8908187506083498, 0.8882843974263797, 0.894433721546023, 0.8858987051962316, 0.8905605686666457, 0.9126848001371503, 0.9055171161622523, 0.8831039477758139, 0.9042297878602499, 0.8931114226726249, 0.9041269915269051, 0.9104979050305161, 0.9054519951824188, 0.9051160979764529, 0.9087428678967674, 0.8805214495665439, 0.90814003480421, 0.9092670857171734, 0.9038472079212388, 0.9065584681459461, 0.9003534403332327, 0.9085532204577047, 0.909791555861338, 0.9049036759913391, 0.9007200193243896, 0.9084994188865135, 0.9112032761687597, 0.891587763464452, 0.9032510581139457, 0.908999158855317, 0.9097747898161342, 0.9028615588263242, 0.9049008785940036, 0.8971033648370227, 0.9014775363233138, 0.9084703565225893, 0.908828630028134]\n[0.05024424681752867, 0.030048005111377347, 0.03439441396970808, 0.033422039165335635, 0.021941276414865634, 0.01736810528481915, 0.018431189588137036, 0.023136015326794466, 0.012895717350646135, 0.0254592205170279, 0.012957422171102266, 0.014621677773290667, 0.01390230721741374, 0.028535188397260443, 0.01431817889326428, 0.010730116187224758, 0.011828281729636701, 0.013110531596215594, 0.010525797812451035, 0.008963370772456387, 0.012552074331182914, 0.013581350800972806, 0.016366041151890214, 0.010863223170259333, 0.011056235188742514, 0.007706965109504, 0.006118808815835622, 0.011503272413810748, 0.008784615853890102, 0.006852004442120336, 0.008771474616485371, 0.008161980058369043, 0.011004378804022363, 0.014371472380074747, 0.008497538105644856, 0.006512216956379772, 0.013305579800138075, 0.00918752673915561, 0.0068490106962682, 0.004389768292428253, 0.010705570548681305, 0.009795708370939933, 0.006970620402812075, 0.005081646434348843, 0.007584936095297505, 0.009954439538926739, 0.010918340069020508, 0.009996543530554233, 0.005113110966258342, 0.006500326516711461]\n"
     ]
    }
   ],
   "source": [
    "print means_HR\n",
    "print stds_HR\n"
   ]
  },
  {
   "cell_type": "code",
   "execution_count": 119,
   "metadata": {
    "collapsed": false
   },
   "outputs": [
    {
     "name": "stdout",
     "output_type": "stream",
     "text": [
      "done\n"
     ]
    }
   ],
   "source": [
    "fig, ax = plt.subplots()\n",
    "fig.set_size_inches(15, 8)\n",
    "x = []\n",
    "for i in list(range(1,51)) :\n",
    "    x.append(i*2)\n",
    "g = sns.pointplot(x, y = list(means_HR), ax=ax)\n",
    "sns.pointplot(x, means_training_HR, ax=ax, color='r')\n",
    "g.autoscale(True, axis = \"both\")\n",
    "g.set_xlabel(\"% of training data\")\n",
    "g.set_ylabel(\"% accuracy\")\n",
    "g.set_title(\"HR Set, Decision Tree, % of training data vs % accuracy\")\n",
    "plt.show()\n",
    "print \"done\""
   ]
  },
  {
   "cell_type": "code",
   "execution_count": 113,
   "metadata": {},
   "outputs": [
    {
     "name": "stdout",
     "output_type": "stream",
     "text": [
      "done\n"
     ]
    }
   ],
   "source": [
    "dt = DecisionTreeClassifier(max_leaf_nodes=5)\n",
    "knn = KNeighborsClassifier(n_neighbors=1)\n",
    "means_income = []\n",
    "stds_income = []\n",
    "training_income_mean = []\n",
    "income_cross = pd.read_csv(\"./income.csv\")\n",
    "\n",
    "for i in range(10):\n",
    "    income_cross_sampled = income_cross.sample(income_cross[\"income\"].count()/10 * (i + 1))\n",
    "    \n",
    "    Y_income_cross = income_cross_sampled[\"income\"]\n",
    "    X_income_cross = income_cross_sampled.drop(\"income\", axis=1)\n",
    "    X_income_cross = pd.get_dummies(X_income_cross)\n",
    "    X_income_cross = preprocessing.scale(X_income_cross)\n",
    "    scores = cross_val_score(dt, X_income_cross, Y_income_cross, cv = 10)\n",
    "    dt.fit(X_income_cross, Y_income_cross)\n",
    "    training_scores = dt.score(X_income_cross, Y_income_cross)\n",
    "    training_income_mean.append(training_scores)\n",
    "    means_income.append(scores.mean())\n",
    "    stds_income.append(scores.std())\n",
    "\n",
    "\n",
    "#display(dt.score(X_train, Y_train))\n",
    "#dt.score(X_test, Y_test)\n",
    "\n",
    "print \"done\""
   ]
  },
  {
   "cell_type": "code",
   "execution_count": 114,
   "metadata": {
    "collapsed": false
   },
   "outputs": [
    {
     "name": "stdout",
     "output_type": "stream",
     "text": [
      "[0.8421330816422842, 0.8475064419715123, 0.8294439107673204, 0.8487399630408985, 0.8450262066152581, 0.845464151768233, 0.8426636541061431, 0.8433288476433327, 0.8431957826524142, 0.8437656267775019]\n[10, 20, 30, 40, 50, 60, 70, 80, 90, 100]\ndone\n"
     ]
    }
   ],
   "source": [
    "fig2, ax2 = plt.subplots()\n",
    "fig2.set_size_inches(15, 8)\n",
    "x = []\n",
    "for i in list(range(1,11)) :\n",
    "    x.append(i*10)\n",
    "    \n",
    "print means_income\n",
    "print x\n",
    "g2 = sns.pointplot(x, y = means_income, ax=ax2)\n",
    "sns.pointplot(x, training_income_mean, ax=ax2, color='r')\n",
    "g2.autoscale(True, axis = \"both\")\n",
    "g2.set_xlabel(\"% of training data\")\n",
    "g2.set_ylabel(\"% accuracy\")\n",
    "g2.set_title(\"Income Set, Decision Tree, % of training data vs % accuracy\")\n",
    "plt.show()\n",
    "print \"done\""
   ]
  },
  {
   "cell_type": "code",
   "execution_count": 10,
   "metadata": {},
   "outputs": [
    {
     "name": "stdout",
     "output_type": "stream",
     "text": [
      "[0.8190782902672679, 0.8179727145992114, 0.8184639830748213, 0.8189248030512998, 0.8173276665869542, 0.8198154192934666, 0.8181569803537873, 0.8188019434987505, 0.818187702314199, 0.8192318623505297]\n[0.008134332439762743, 0.0070759828965696065, 0.007058439875876139, 0.007084717047150191, 0.00810135994207591, 0.007376031723340624, 0.006880643216199204, 0.007596251626279793, 0.008745131666142044, 0.008404057512438225]\n"
     ]
    }
   ],
   "source": [
    "print means\n",
    "print stds"
   ]
  },
  {
   "cell_type": "code",
   "execution_count": null,
   "metadata": {},
   "outputs": [],
   "source": []
  }
 ],
 "metadata": {
  "kernelspec": {
   "display_name": "Python 2",
   "language": "python",
   "name": "python2"
  },
  "language_info": {
   "codemirror_mode": {
    "name": "ipython",
    "version": 2
   },
   "file_extension": ".py",
   "mimetype": "text/x-python",
   "name": "python",
   "nbconvert_exporter": "python",
   "pygments_lexer": "ipython2",
   "version": "2.7.6"
  }
 },
 "nbformat": 4,
 "nbformat_minor": 0
}
